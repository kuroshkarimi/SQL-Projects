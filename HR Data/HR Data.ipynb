{
 "cells": [
  {
   "cell_type": "markdown",
   "id": "2eef2fdf-19c1-4382-a7e9-65256257ec73",
   "metadata": {},
   "source": [
    "**By Kurosh Karimi**"
   ]
  },
  {
   "cell_type": "markdown",
   "id": "f605f1c6-6106-4337-a637-f330d456b28b",
   "metadata": {},
   "source": [
    "## HR Data"
   ]
  },
  {
   "cell_type": "markdown",
   "id": "e6281680-6437-4ffa-b6b8-a0a0cafdc2a0",
   "metadata": {},
   "source": [
    "\n",
    "We have a five csv files related to HR Data priject. These tables store information about Employees, Jobs, Job History, departments and Locations without headers that are attached to this directory."
   ]
  },
  {
   "cell_type": "markdown",
   "id": "a3ad09dd-cfb0-4bf8-b353-a6e010a61b5b",
   "metadata": {},
   "source": [
    "## Task:"
   ]
  },
  {
   "cell_type": "markdown",
   "id": "912e4e76-e0a3-4dec-bbfe-62abb8c9006e",
   "metadata": {},
   "source": [
    "1. Create a Sqlite database instance, named \"HR\", and connect to it.\n",
    "2. Create five empty tables with the following headers:"
   ]
  },
  {
   "attachments": {
    "17db4aab-e95c-4fb7-9f42-746b756850f0.PNG": {
     "image/png": "[encoded data removed]"
    },
    "25addba9-8492-4fea-945a-5a6ab3bde174.PNG": {
     "image/png": "[encoded data removed]"
    },
    "358a71a9-9260-444f-a1f9-ff33ca511676.PNG": {
     "image/png": "[encoded data removed]"
    },
    "42338bf3-7cf6-453c-b703-86caf1178eda.PNG": {
     "image/png": "[encoded data removed]"
    },
    "6a066dc1-b7d5-4960-b8e5-a5f6f7722259.PNG": {
     "image/png": "[encoded data removed]"
    }
   },
   "cell_type": "markdown",
   "id": "fcaf4256-909b-4e96-8e7d-dc03948e0dfb",
   "metadata": {},
   "source": [
    "\n",
    "Employee:\n",
    "![employee.PNG](attachment:358a71a9-9260-444f-a1f9-ff33ca511676.PNG)\n",
    "\n",
    "\n",
    "\n",
    "\n",
    "JobsHistory:\n",
    "![jobhistory.PNG](attachment:17db4aab-e95c-4fb7-9f42-746b756850f0.PNG)\n",
    "\n",
    "\n",
    "\n",
    "Jobs:\n",
    "![jobs.PNG](attachment:42338bf3-7cf6-453c-b703-86caf1178eda.PNG)\n",
    "\n",
    "\n",
    "\n",
    "\n",
    "Departments:\n",
    "![departments.PNG](attachment:25addba9-8492-4fea-945a-5a6ab3bde174.PNG)\n",
    "\n",
    "\n",
    "\n",
    "\n",
    "Locations:\n",
    "![Locations.PNG](attachment:6a066dc1-b7d5-4960-b8e5-a5f6f7722259.PNG)\n"
   ]
  },
  {
   "cell_type": "markdown",
   "id": "a41b031b-4052-4fbf-bdb2-62a47810e452",
   "metadata": {},
   "source": [
    "\n",
    "3) Add the csv files to their relevant tables defined above, and show them.\n",
    "4)  Write a query to find the average salary of the five least-earning employees.\n",
    "5) Write a query to find the records of employees older than the average age of all employees.\n",
    "6) From the Job_History table, display the list of Employee IDs, years of service, and average years of service for all entries.\n",
    "7) Retrieve only the list of employees whose JOB_TITLE is Jr. Designer (use either subquery or implicit join).\n",
    "8) Retrieve JOB information and a list of employees whose birth year is after 1976 (use implicit join)."
   ]
  },
  {
   "cell_type": "markdown",
   "id": "81f4ee7b-aa25-43ee-aff2-45c5aef3feb1",
   "metadata": {},
   "source": [
    "1 and 2. Creating a Sqlite database instance, named \"HR\", connecting to it and creating empty tables"
   ]
  },
  {
   "cell_type": "code",
   "execution_count": 1,
   "id": "e50b2ca3-69a2-4e61-9e7f-054282d595ac",
   "metadata": {},
   "outputs": [],
   "source": [
    "# !pip install ipython-sql\n",
    "# !pip install pandas"
   ]
  },
  {
   "cell_type": "code",
   "execution_count": 30,
   "id": "6e07b4eb-8ed0-4bcc-8f02-75f910e978b7",
   "metadata": {},
   "outputs": [
    {
     "name": "stdout",
     "output_type": "stream",
     "text": [
      "The sql extension is already loaded. To reload it, use:\n",
      "  %reload_ext sql\n"
     ]
    }
   ],
   "source": [
    "import pandas as pd\n",
    "import sqlite3\n",
    "%load_ext sql"
   ]
  },
  {
   "cell_type": "code",
   "execution_count": 3,
   "id": "2037bfe3-d9c9-4344-a8bc-92e9544bb61f",
   "metadata": {
    "scrolled": true
   },
   "outputs": [],
   "source": [
    "Employees = pd.read_csv('Employees.csv', header = None)\n",
    "JobsHistory = pd.read_csv('JobsHistory.csv', header = None)\n",
    "Jobs = pd.read_csv('Jobs.csv', header = None)\n",
    "Departments = pd.read_csv('Departments.csv', header = None)\n",
    "Locations = pd.read_csv('Locations.csv', header = None)\n"
   ]
  },
  {
   "cell_type": "code",
   "execution_count": 4,
   "id": "49d98bfb-54ba-4c30-a853-e548fa7dbbd8",
   "metadata": {},
   "outputs": [],
   "source": [
    "# Create a connection to the SQLite database\n",
    "con = sqlite3.connect('HR.db')"
   ]
  },
  {
   "cell_type": "code",
   "execution_count": 5,
   "id": "13ab2fc3-a480-4270-869a-2dd30059e9c2",
   "metadata": {},
   "outputs": [
    {
     "name": "stdout",
     "output_type": "stream",
     "text": [
      "Done.\n",
      "Done.\n",
      "Done.\n",
      "Done.\n",
      "Done.\n",
      "Done.\n",
      "Done.\n",
      "Done.\n",
      "Done.\n",
      "Done.\n"
     ]
    },
    {
     "data": {
      "text/plain": [
       "[]"
      ]
     },
     "execution_count": 5,
     "metadata": {},
     "output_type": "execute_result"
    }
   ],
   "source": [
    "%%sql \n",
    "sqlite:///HR.db\n",
    "\n",
    "DROP TABLE IF EXISTS EMPLOYEES;\n",
    "CREATE TABLE EMPLOYEES (\n",
    "                            EMP_ID CHAR(9) NOT NULL, \n",
    "                            F_NAME VARCHAR(15) NOT NULL,\n",
    "                            L_NAME VARCHAR(15) NOT NULL,\n",
    "                            SSN CHAR(9),\n",
    "                            B_DATE DATE,\n",
    "                            SEX CHAR,\n",
    "                            ADDRESS VARCHAR(30),\n",
    "                            JOB_ID CHAR(9),\n",
    "                            SALARY DECIMAL(10,2),\n",
    "                            MANAGER_ID CHAR(9),\n",
    "                            DEP_ID CHAR(9) NOT NULL,\n",
    "                            PRIMARY KEY (EMP_ID));\n",
    "DROP TABLE IF EXISTS JOB_HISTORY;\n",
    "  CREATE TABLE JOB_HISTORY (\n",
    "                            EMPL_ID CHAR(9) NOT NULL, \n",
    "                            START_DATE DATE,\n",
    "                            JOBS_ID CHAR(9) NOT NULL,\n",
    "                            DEPT_ID CHAR(9),\n",
    "                            PRIMARY KEY (EMPL_ID,JOBS_ID));\n",
    "\n",
    "DROP TABLE IF EXISTS JOBS;                            \n",
    " CREATE TABLE JOBS (\n",
    "                            JOB_IDENT CHAR(9) NOT NULL, \n",
    "                            JOB_TITLE VARCHAR(30),\n",
    "                            MIN_SALARY DECIMAL(10,2),\n",
    "                            MAX_SALARY DECIMAL(10,2),\n",
    "                            PRIMARY KEY (JOB_IDENT));\n",
    "\n",
    "DROP TABLE IF EXISTS DEPARTMENTS;\n",
    "CREATE TABLE DEPARTMENTS (\n",
    "                            DEPT_ID_DEP CHAR(9) NOT NULL, \n",
    "                            DEP_NAME VARCHAR(15) ,\n",
    "                            MANAGER_ID CHAR(9),\n",
    "                            LOC_ID CHAR(9),\n",
    "                            PRIMARY KEY (DEPT_ID_DEP));\n",
    "\n",
    "DROP TABLE IF EXISTS LOCATIONS;\n",
    "CREATE TABLE LOCATIONS (\n",
    "                            LOCT_ID CHAR(9) NOT NULL,\n",
    "                            DEP_ID_LOC CHAR(9) NOT NULL,\n",
    "                            PRIMARY KEY (LOCT_ID,DEP_ID_LOC));\n"
   ]
  },
  {
   "cell_type": "markdown",
   "id": "72a3d9f0-865c-46eb-b05f-9f500268f79b",
   "metadata": {},
   "source": [
    "3. Add the csv files to their relevant tables defined above and show them."
   ]
  },
  {
   "cell_type": "code",
   "execution_count": 6,
   "id": "93f8bdea-136e-4bde-aa67-33a58486cb31",
   "metadata": {},
   "outputs": [],
   "source": [
    "emp_headers = pd.read_sql('SELECT * FROM EMPLOYEES', con)\n",
    "Employees.columns = emp_headers.columns.to_list()\n",
    "\n",
    "job_hist_headers = pd.read_sql('SELECT * FROM JOB_HISTORY', con)\n",
    "JobsHistory.columns = job_hist_headers.columns.to_list()\n",
    "\n",
    "jobs_headers = pd.read_sql('SELECT * FROM JOBS', con)\n",
    "Jobs.columns = jobs_headers.columns.to_list()\n",
    "\n",
    "dep_headers = pd.read_sql('SELECT * FROM DEPARTMENTS', con)\n",
    "Departments.columns = dep_headers.columns.to_list()\n",
    "\n",
    "loc_headers = pd.read_sql('SELECT * FROM LOCATIONS', con)\n",
    "Locations.columns = loc_headers.columns.to_list()"
   ]
  },
  {
   "cell_type": "code",
   "execution_count": 7,
   "id": "4e45a952-f584-44f0-b317-bf07c8d509a9",
   "metadata": {},
   "outputs": [],
   "source": [
    "# Insert the DataFrame into the database. This will automatically create the table.\n",
    "Employees.to_sql('EMPLOYEES', con, if_exists='replace', index=False, method='multi')\n",
    "JobsHistory.to_sql('JOB_HISTORY', con, if_exists='replace', index=False, method='multi')\n",
    "Jobs.to_sql('JOBS', con, if_exists='replace', index=False, method='multi')\n",
    "Departments.to_sql('DEPARTMENTS', con, if_exists='replace', index=False, method='multi')\n",
    "Locations.to_sql('LOCATIONS', con, if_exists='replace', index=False, method='multi')\n",
    "\n",
    "con.close()"
   ]
  },
  {
   "cell_type": "code",
   "execution_count": 8,
   "id": "d6883705-0244-4001-95b9-37495ca4f1f1",
   "metadata": {},
   "outputs": [
    {
     "name": "stdout",
     "output_type": "stream",
     "text": [
      " * sqlite:///HR.db\n",
      "Done.\n"
     ]
    },
    {
     "data": {
      "text/html": [
       "<table>\n",
       "    <thead>\n",
       "        <tr>\n",
       "            <th>EMP_ID</th>\n",
       "            <th>F_NAME</th>\n",
       "            <th>L_NAME</th>\n",
       "            <th>SSN</th>\n",
       "            <th>B_DATE</th>\n",
       "            <th>SEX</th>\n",
       "            <th>ADDRESS</th>\n",
       "            <th>JOB_ID</th>\n",
       "            <th>SALARY</th>\n",
       "            <th>MANAGER_ID</th>\n",
       "            <th>DEP_ID</th>\n",
       "        </tr>\n",
       "    </thead>\n",
       "    <tbody>\n",
       "        <tr>\n",
       "            <td>E1001</td>\n",
       "            <td>John</td>\n",
       "            <td>Thomas</td>\n",
       "            <td>123456</td>\n",
       "            <td>1976-09-01</td>\n",
       "            <td>M</td>\n",
       "            <td>5631 Rice, OakPark,IL</td>\n",
       "            <td>100</td>\n",
       "            <td>100000</td>\n",
       "            <td>30001</td>\n",
       "            <td>2</td>\n",
       "        </tr>\n",
       "        <tr>\n",
       "            <td>E1002</td>\n",
       "            <td>Alice</td>\n",
       "            <td>James</td>\n",
       "            <td>123457</td>\n",
       "            <td>1972-07-31</td>\n",
       "            <td>F</td>\n",
       "            <td>980 Berry ln, Elgin,IL</td>\n",
       "            <td>200</td>\n",
       "            <td>80000</td>\n",
       "            <td>30002</td>\n",
       "            <td>5</td>\n",
       "        </tr>\n",
       "        <tr>\n",
       "            <td>E1003</td>\n",
       "            <td>Steve</td>\n",
       "            <td>Wells</td>\n",
       "            <td>123458</td>\n",
       "            <td>1980-10-08</td>\n",
       "            <td>M</td>\n",
       "            <td>291 Springs, Gary,IL</td>\n",
       "            <td>300</td>\n",
       "            <td>50000</td>\n",
       "            <td>30002</td>\n",
       "            <td>5</td>\n",
       "        </tr>\n",
       "        <tr>\n",
       "            <td>E1004</td>\n",
       "            <td>Santosh</td>\n",
       "            <td>Kumar</td>\n",
       "            <td>123459</td>\n",
       "            <td>1985-07-20</td>\n",
       "            <td>M</td>\n",
       "            <td>511 Aurora Av, Aurora,IL</td>\n",
       "            <td>400</td>\n",
       "            <td>60000</td>\n",
       "            <td>30002</td>\n",
       "            <td>5</td>\n",
       "        </tr>\n",
       "        <tr>\n",
       "            <td>E1005</td>\n",
       "            <td>Ahmed</td>\n",
       "            <td>Hussain</td>\n",
       "            <td>123410</td>\n",
       "            <td>1981-04-01</td>\n",
       "            <td>M</td>\n",
       "            <td>216 Oak Tree, Geneva,IL</td>\n",
       "            <td>500</td>\n",
       "            <td>70000</td>\n",
       "            <td>30001</td>\n",
       "            <td>2</td>\n",
       "        </tr>\n",
       "        <tr>\n",
       "            <td>E1006</td>\n",
       "            <td>Nancy</td>\n",
       "            <td>Allen</td>\n",
       "            <td>123411</td>\n",
       "            <td>1978-06-02</td>\n",
       "            <td>F</td>\n",
       "            <td>111 Green Pl, Elgin,IL</td>\n",
       "            <td>600</td>\n",
       "            <td>90000</td>\n",
       "            <td>30001</td>\n",
       "            <td>2</td>\n",
       "        </tr>\n",
       "        <tr>\n",
       "            <td>E1007</td>\n",
       "            <td>Mary</td>\n",
       "            <td>Thomas</td>\n",
       "            <td>123412</td>\n",
       "            <td>1975-05-05</td>\n",
       "            <td>F</td>\n",
       "            <td>100 Rose Pl, Gary,IL</td>\n",
       "            <td>650</td>\n",
       "            <td>65000</td>\n",
       "            <td>30003</td>\n",
       "            <td>7</td>\n",
       "        </tr>\n",
       "        <tr>\n",
       "            <td>E1008</td>\n",
       "            <td>Bharath</td>\n",
       "            <td>Gupta</td>\n",
       "            <td>123413</td>\n",
       "            <td>1985-06-05</td>\n",
       "            <td>M</td>\n",
       "            <td>145 Berry Ln, Naperville,IL</td>\n",
       "            <td>660</td>\n",
       "            <td>65000</td>\n",
       "            <td>30003</td>\n",
       "            <td>7</td>\n",
       "        </tr>\n",
       "        <tr>\n",
       "            <td>E1009</td>\n",
       "            <td>Andrea</td>\n",
       "            <td>Jones</td>\n",
       "            <td>123414</td>\n",
       "            <td>1990-09-07</td>\n",
       "            <td>F</td>\n",
       "            <td>120 Fall Creek, Gary,IL</td>\n",
       "            <td>234</td>\n",
       "            <td>70000</td>\n",
       "            <td>30003</td>\n",
       "            <td>7</td>\n",
       "        </tr>\n",
       "        <tr>\n",
       "            <td>E1010</td>\n",
       "            <td>Ann</td>\n",
       "            <td>Jacob</td>\n",
       "            <td>123415</td>\n",
       "            <td>1982-03-30</td>\n",
       "            <td>F</td>\n",
       "            <td>111 Britany Springs,Elgin,IL</td>\n",
       "            <td>220</td>\n",
       "            <td>70000</td>\n",
       "            <td>30002</td>\n",
       "            <td>5</td>\n",
       "        </tr>\n",
       "    </tbody>\n",
       "</table>"
      ],
      "text/plain": [
       "[('E1001', 'John', 'Thomas', 123456, '1976-09-01', 'M', '5631 Rice, OakPark,IL', 100, 100000, 30001, 2),\n",
       " ('E1002', 'Alice', 'James', 123457, '1972-07-31', 'F', '980 Berry ln, Elgin,IL', 200, 80000, 30002, 5),\n",
       " ('E1003', 'Steve', 'Wells', 123458, '1980-10-08', 'M', '291 Springs, Gary,IL', 300, 50000, 30002, 5),\n",
       " ('E1004', 'Santosh', 'Kumar', 123459, '1985-07-20', 'M', '511 Aurora Av, Aurora,IL', 400, 60000, 30002, 5),\n",
       " ('E1005', 'Ahmed', 'Hussain', 123410, '1981-04-01', 'M', '216 Oak Tree, Geneva,IL', 500, 70000, 30001, 2),\n",
       " ('E1006', 'Nancy', 'Allen', 123411, '1978-06-02', 'F', '111 Green Pl, Elgin,IL', 600, 90000, 30001, 2),\n",
       " ('E1007', 'Mary', 'Thomas', 123412, '1975-05-05', 'F', '100 Rose Pl, Gary,IL', 650, 65000, 30003, 7),\n",
       " ('E1008', 'Bharath', 'Gupta', 123413, '1985-06-05', 'M', '145 Berry Ln, Naperville,IL', 660, 65000, 30003, 7),\n",
       " ('E1009', 'Andrea', 'Jones', 123414, '1990-09-07', 'F', '120 Fall Creek, Gary,IL', 234, 70000, 30003, 7),\n",
       " ('E1010', 'Ann', 'Jacob', 123415, '1982-03-30', 'F', '111 Britany Springs,Elgin,IL', 220, 70000, 30002, 5)]"
      ]
     },
     "execution_count": 8,
     "metadata": {},
     "output_type": "execute_result"
    }
   ],
   "source": [
    "%%sql\n",
    "SELECT * FROM EMPLOYEES;"
   ]
  },
  {
   "cell_type": "code",
   "execution_count": 9,
   "id": "1401718c-f5d2-4055-9573-248b01fc50bf",
   "metadata": {},
   "outputs": [
    {
     "name": "stdout",
     "output_type": "stream",
     "text": [
      " * sqlite:///HR.db\n",
      "Done.\n"
     ]
    },
    {
     "data": {
      "text/html": [
       "<table>\n",
       "    <thead>\n",
       "        <tr>\n",
       "            <th>EMPL_ID</th>\n",
       "            <th>START_DATE</th>\n",
       "            <th>JOBS_ID</th>\n",
       "            <th>DEPT_ID</th>\n",
       "        </tr>\n",
       "    </thead>\n",
       "    <tbody>\n",
       "        <tr>\n",
       "            <td>E1001</td>\n",
       "            <td>2000-08-01</td>\n",
       "            <td>100</td>\n",
       "            <td>2</td>\n",
       "        </tr>\n",
       "        <tr>\n",
       "            <td>E1002</td>\n",
       "            <td>2001-08-01</td>\n",
       "            <td>200</td>\n",
       "            <td>5</td>\n",
       "        </tr>\n",
       "        <tr>\n",
       "            <td>E1003</td>\n",
       "            <td>2001-08-16</td>\n",
       "            <td>300</td>\n",
       "            <td>5</td>\n",
       "        </tr>\n",
       "        <tr>\n",
       "            <td>E1004</td>\n",
       "            <td>2000-08-16</td>\n",
       "            <td>400</td>\n",
       "            <td>5</td>\n",
       "        </tr>\n",
       "        <tr>\n",
       "            <td>E1005</td>\n",
       "            <td>2000-05-30</td>\n",
       "            <td>500</td>\n",
       "            <td>2</td>\n",
       "        </tr>\n",
       "        <tr>\n",
       "            <td>E1006</td>\n",
       "            <td>2001-08-16</td>\n",
       "            <td>600</td>\n",
       "            <td>2</td>\n",
       "        </tr>\n",
       "        <tr>\n",
       "            <td>E1007</td>\n",
       "            <td>2002-05-30</td>\n",
       "            <td>650</td>\n",
       "            <td>7</td>\n",
       "        </tr>\n",
       "        <tr>\n",
       "            <td>E1008</td>\n",
       "            <td>2010-05-06</td>\n",
       "            <td>660</td>\n",
       "            <td>7</td>\n",
       "        </tr>\n",
       "        <tr>\n",
       "            <td>E1009</td>\n",
       "            <td>2016-08-16</td>\n",
       "            <td>234</td>\n",
       "            <td>7</td>\n",
       "        </tr>\n",
       "        <tr>\n",
       "            <td>E1010</td>\n",
       "            <td>2016-08-16</td>\n",
       "            <td>220</td>\n",
       "            <td>5</td>\n",
       "        </tr>\n",
       "    </tbody>\n",
       "</table>"
      ],
      "text/plain": [
       "[('E1001', '2000-08-01', 100, 2),\n",
       " ('E1002', '2001-08-01', 200, 5),\n",
       " ('E1003', '2001-08-16', 300, 5),\n",
       " ('E1004', '2000-08-16', 400, 5),\n",
       " ('E1005', '2000-05-30', 500, 2),\n",
       " ('E1006', '2001-08-16', 600, 2),\n",
       " ('E1007', '2002-05-30', 650, 7),\n",
       " ('E1008', '2010-05-06', 660, 7),\n",
       " ('E1009', '2016-08-16', 234, 7),\n",
       " ('E1010', '2016-08-16', 220, 5)]"
      ]
     },
     "execution_count": 9,
     "metadata": {},
     "output_type": "execute_result"
    }
   ],
   "source": [
    "%%sql\n",
    "SELECT * FROM JOB_HISTORY;"
   ]
  },
  {
   "cell_type": "code",
   "execution_count": 10,
   "id": "4d9d369d-50cc-413d-a4b3-45417860878a",
   "metadata": {},
   "outputs": [
    {
     "name": "stdout",
     "output_type": "stream",
     "text": [
      " * sqlite:///HR.db\n",
      "Done.\n"
     ]
    },
    {
     "data": {
      "text/html": [
       "<table>\n",
       "    <thead>\n",
       "        <tr>\n",
       "            <th>JOB_IDENT</th>\n",
       "            <th>JOB_TITLE</th>\n",
       "            <th>MIN_SALARY</th>\n",
       "            <th>MAX_SALARY</th>\n",
       "        </tr>\n",
       "    </thead>\n",
       "    <tbody>\n",
       "        <tr>\n",
       "            <td>100</td>\n",
       "            <td>Sr. Architect</td>\n",
       "            <td>60000</td>\n",
       "            <td>100000</td>\n",
       "        </tr>\n",
       "        <tr>\n",
       "            <td>200</td>\n",
       "            <td>Sr. Software Developer</td>\n",
       "            <td>60000</td>\n",
       "            <td>80000</td>\n",
       "        </tr>\n",
       "        <tr>\n",
       "            <td>300</td>\n",
       "            <td>Jr.Software Developer</td>\n",
       "            <td>40000</td>\n",
       "            <td>60000</td>\n",
       "        </tr>\n",
       "        <tr>\n",
       "            <td>400</td>\n",
       "            <td>Jr.Software Developer</td>\n",
       "            <td>40000</td>\n",
       "            <td>60000</td>\n",
       "        </tr>\n",
       "        <tr>\n",
       "            <td>500</td>\n",
       "            <td>Jr. Architect</td>\n",
       "            <td>50000</td>\n",
       "            <td>70000</td>\n",
       "        </tr>\n",
       "        <tr>\n",
       "            <td>600</td>\n",
       "            <td>Lead Architect</td>\n",
       "            <td>70000</td>\n",
       "            <td>100000</td>\n",
       "        </tr>\n",
       "        <tr>\n",
       "            <td>650</td>\n",
       "            <td>Jr. Designer</td>\n",
       "            <td>60000</td>\n",
       "            <td>70000</td>\n",
       "        </tr>\n",
       "        <tr>\n",
       "            <td>660</td>\n",
       "            <td>Jr. Designer</td>\n",
       "            <td>60000</td>\n",
       "            <td>70000</td>\n",
       "        </tr>\n",
       "        <tr>\n",
       "            <td>234</td>\n",
       "            <td>Sr. Designer</td>\n",
       "            <td>70000</td>\n",
       "            <td>90000</td>\n",
       "        </tr>\n",
       "        <tr>\n",
       "            <td>220</td>\n",
       "            <td>Sr. Designer</td>\n",
       "            <td>70000</td>\n",
       "            <td>90000</td>\n",
       "        </tr>\n",
       "    </tbody>\n",
       "</table>"
      ],
      "text/plain": [
       "[(100, 'Sr. Architect', 60000, 100000),\n",
       " (200, 'Sr. Software Developer', 60000, 80000),\n",
       " (300, 'Jr.Software Developer', 40000, 60000),\n",
       " (400, 'Jr.Software Developer', 40000, 60000),\n",
       " (500, 'Jr. Architect', 50000, 70000),\n",
       " (600, 'Lead Architect', 70000, 100000),\n",
       " (650, 'Jr. Designer', 60000, 70000),\n",
       " (660, 'Jr. Designer', 60000, 70000),\n",
       " (234, 'Sr. Designer', 70000, 90000),\n",
       " (220, 'Sr. Designer', 70000, 90000)]"
      ]
     },
     "execution_count": 10,
     "metadata": {},
     "output_type": "execute_result"
    }
   ],
   "source": [
    "%%sql\n",
    "SELECT * FROM JOBS;"
   ]
  },
  {
   "cell_type": "code",
   "execution_count": 11,
   "id": "62b614ab-15ef-4be9-b7dd-2ab8e3fc1cd0",
   "metadata": {},
   "outputs": [
    {
     "name": "stdout",
     "output_type": "stream",
     "text": [
      " * sqlite:///HR.db\n",
      "Done.\n"
     ]
    },
    {
     "data": {
      "text/html": [
       "<table>\n",
       "    <thead>\n",
       "        <tr>\n",
       "            <th>DEPT_ID_DEP</th>\n",
       "            <th>DEP_NAME</th>\n",
       "            <th>MANAGER_ID</th>\n",
       "            <th>LOC_ID</th>\n",
       "        </tr>\n",
       "    </thead>\n",
       "    <tbody>\n",
       "        <tr>\n",
       "            <td>2</td>\n",
       "            <td>Architect Group</td>\n",
       "            <td>30001</td>\n",
       "            <td>L0001</td>\n",
       "        </tr>\n",
       "        <tr>\n",
       "            <td>5</td>\n",
       "            <td>Software Group</td>\n",
       "            <td>30002</td>\n",
       "            <td>L0002</td>\n",
       "        </tr>\n",
       "        <tr>\n",
       "            <td>7</td>\n",
       "            <td>Design Team</td>\n",
       "            <td>30003</td>\n",
       "            <td>L0003</td>\n",
       "        </tr>\n",
       "        <tr>\n",
       "            <td>5</td>\n",
       "            <td>Software Group</td>\n",
       "            <td>30004</td>\n",
       "            <td>L0004</td>\n",
       "        </tr>\n",
       "    </tbody>\n",
       "</table>"
      ],
      "text/plain": [
       "[(2, 'Architect Group', 30001, 'L0001'),\n",
       " (5, 'Software Group', 30002, 'L0002'),\n",
       " (7, 'Design Team', 30003, 'L0003'),\n",
       " (5, 'Software Group', 30004, 'L0004')]"
      ]
     },
     "execution_count": 11,
     "metadata": {},
     "output_type": "execute_result"
    }
   ],
   "source": [
    "%%sql\n",
    "SELECT * FROM DEPARTMENTS;"
   ]
  },
  {
   "cell_type": "code",
   "execution_count": 12,
   "id": "e28e8f74-f8a8-4ef3-ab31-eb20eb9aebe3",
   "metadata": {},
   "outputs": [
    {
     "name": "stdout",
     "output_type": "stream",
     "text": [
      " * sqlite:///HR.db\n",
      "Done.\n"
     ]
    },
    {
     "data": {
      "text/html": [
       "<table>\n",
       "    <thead>\n",
       "        <tr>\n",
       "            <th>LOCT_ID</th>\n",
       "            <th>DEP_ID_LOC</th>\n",
       "        </tr>\n",
       "    </thead>\n",
       "    <tbody>\n",
       "        <tr>\n",
       "            <td>L0001</td>\n",
       "            <td>2</td>\n",
       "        </tr>\n",
       "        <tr>\n",
       "            <td>L0002</td>\n",
       "            <td>5</td>\n",
       "        </tr>\n",
       "        <tr>\n",
       "            <td>L0003</td>\n",
       "            <td>7</td>\n",
       "        </tr>\n",
       "    </tbody>\n",
       "</table>"
      ],
      "text/plain": [
       "[('L0001', 2), ('L0002', 5), ('L0003', 7)]"
      ]
     },
     "execution_count": 12,
     "metadata": {},
     "output_type": "execute_result"
    }
   ],
   "source": [
    "%%sql\n",
    "SELECT * FROM LOCATIONS;"
   ]
  },
  {
   "cell_type": "markdown",
   "id": "fa41fa04-79db-4ce1-a4c3-874558e266b9",
   "metadata": {},
   "source": [
    "4. Write a query to find the average salary of the five least-earning employees."
   ]
  },
  {
   "cell_type": "code",
   "execution_count": 18,
   "id": "77fa4098-4dfb-4073-b868-73577ab2d156",
   "metadata": {},
   "outputs": [
    {
     "name": "stdout",
     "output_type": "stream",
     "text": [
      " * sqlite:///HR.db\n",
      "Done.\n"
     ]
    },
    {
     "data": {
      "text/html": [
       "<table>\n",
       "    <thead>\n",
       "        <tr>\n",
       "            <th>AVG_SALARY</th>\n",
       "        </tr>\n",
       "    </thead>\n",
       "    <tbody>\n",
       "        <tr>\n",
       "            <td>62000.0</td>\n",
       "        </tr>\n",
       "    </tbody>\n",
       "</table>"
      ],
      "text/plain": [
       "[(62000.0,)]"
      ]
     },
     "execution_count": 18,
     "metadata": {},
     "output_type": "execute_result"
    }
   ],
   "source": [
    "%%sql\n",
    "\n",
    "SELECT AVG(SALARY) AS AVG_SALARY FROM \n",
    "(SELECT SALARY FROM EMPLOYEES ORDER BY SALARY ASC LIMIT 5)\n"
   ]
  },
  {
   "cell_type": "markdown",
   "id": "d586f513-18f4-4fcb-98e5-72f3d015c449",
   "metadata": {},
   "source": [
    "5. Write a query to find the records of employees older than the average age of all employees."
   ]
  },
  {
   "cell_type": "code",
   "execution_count": 19,
   "id": "1ccf2c84-f37c-4675-bdf4-271bc3e76bef",
   "metadata": {},
   "outputs": [
    {
     "name": "stdout",
     "output_type": "stream",
     "text": [
      " * sqlite:///HR.db\n",
      "Done.\n"
     ]
    },
    {
     "data": {
      "text/html": [
       "<table>\n",
       "    <thead>\n",
       "        <tr>\n",
       "            <th>EMP_ID</th>\n",
       "            <th>F_NAME</th>\n",
       "            <th>L_NAME</th>\n",
       "            <th>SSN</th>\n",
       "            <th>B_DATE</th>\n",
       "            <th>SEX</th>\n",
       "            <th>ADDRESS</th>\n",
       "            <th>JOB_ID</th>\n",
       "            <th>SALARY</th>\n",
       "            <th>MANAGER_ID</th>\n",
       "            <th>DEP_ID</th>\n",
       "        </tr>\n",
       "    </thead>\n",
       "    <tbody>\n",
       "        <tr>\n",
       "            <td>E1001</td>\n",
       "            <td>John</td>\n",
       "            <td>Thomas</td>\n",
       "            <td>123456</td>\n",
       "            <td>1976-09-01</td>\n",
       "            <td>M</td>\n",
       "            <td>5631 Rice, OakPark,IL</td>\n",
       "            <td>100</td>\n",
       "            <td>100000</td>\n",
       "            <td>30001</td>\n",
       "            <td>2</td>\n",
       "        </tr>\n",
       "        <tr>\n",
       "            <td>E1002</td>\n",
       "            <td>Alice</td>\n",
       "            <td>James</td>\n",
       "            <td>123457</td>\n",
       "            <td>1972-07-31</td>\n",
       "            <td>F</td>\n",
       "            <td>980 Berry ln, Elgin,IL</td>\n",
       "            <td>200</td>\n",
       "            <td>80000</td>\n",
       "            <td>30002</td>\n",
       "            <td>5</td>\n",
       "        </tr>\n",
       "        <tr>\n",
       "            <td>E1003</td>\n",
       "            <td>Steve</td>\n",
       "            <td>Wells</td>\n",
       "            <td>123458</td>\n",
       "            <td>1980-10-08</td>\n",
       "            <td>M</td>\n",
       "            <td>291 Springs, Gary,IL</td>\n",
       "            <td>300</td>\n",
       "            <td>50000</td>\n",
       "            <td>30002</td>\n",
       "            <td>5</td>\n",
       "        </tr>\n",
       "        <tr>\n",
       "            <td>E1006</td>\n",
       "            <td>Nancy</td>\n",
       "            <td>Allen</td>\n",
       "            <td>123411</td>\n",
       "            <td>1978-06-02</td>\n",
       "            <td>F</td>\n",
       "            <td>111 Green Pl, Elgin,IL</td>\n",
       "            <td>600</td>\n",
       "            <td>90000</td>\n",
       "            <td>30001</td>\n",
       "            <td>2</td>\n",
       "        </tr>\n",
       "        <tr>\n",
       "            <td>E1007</td>\n",
       "            <td>Mary</td>\n",
       "            <td>Thomas</td>\n",
       "            <td>123412</td>\n",
       "            <td>1975-05-05</td>\n",
       "            <td>F</td>\n",
       "            <td>100 Rose Pl, Gary,IL</td>\n",
       "            <td>650</td>\n",
       "            <td>65000</td>\n",
       "            <td>30003</td>\n",
       "            <td>7</td>\n",
       "        </tr>\n",
       "    </tbody>\n",
       "</table>"
      ],
      "text/plain": [
       "[('E1001', 'John', 'Thomas', 123456, '1976-09-01', 'M', '5631 Rice, OakPark,IL', 100, 100000, 30001, 2),\n",
       " ('E1002', 'Alice', 'James', 123457, '1972-07-31', 'F', '980 Berry ln, Elgin,IL', 200, 80000, 30002, 5),\n",
       " ('E1003', 'Steve', 'Wells', 123458, '1980-10-08', 'M', '291 Springs, Gary,IL', 300, 50000, 30002, 5),\n",
       " ('E1006', 'Nancy', 'Allen', 123411, '1978-06-02', 'F', '111 Green Pl, Elgin,IL', 600, 90000, 30001, 2),\n",
       " ('E1007', 'Mary', 'Thomas', 123412, '1975-05-05', 'F', '100 Rose Pl, Gary,IL', 650, 65000, 30003, 7)]"
      ]
     },
     "execution_count": 19,
     "metadata": {},
     "output_type": "execute_result"
    }
   ],
   "source": [
    "%%sql\n",
    "\n",
    "SELECT * FROM EMPLOYEES\n",
    "WHERE (CAST(strftime('%Y', 'now') AS INTEGER) - CAST(strftime('%Y', B_DATE) AS INTEGER)) >\n",
    "(SELECT AVG(CAST(strftime('%Y', 'now') AS INTEGER) - CAST(strftime('%Y', B_DATE) AS INTEGER)) FROM EMPLOYEES);\n"
   ]
  },
  {
   "cell_type": "markdown",
   "id": "ef556085-5b8f-4cbd-8167-162bd3cdbf39",
   "metadata": {},
   "source": [
    "6. From the Job_History table, display the list of Employee IDs, years of service, and average years of service for all entries.\n"
   ]
  },
  {
   "cell_type": "code",
   "execution_count": 20,
   "id": "840cfdf0-ba24-4d19-bc19-ced5e2e313b0",
   "metadata": {},
   "outputs": [
    {
     "name": "stdout",
     "output_type": "stream",
     "text": [
      " * sqlite:///HR.db\n",
      "Done.\n"
     ]
    },
    {
     "data": {
      "text/html": [
       "<table>\n",
       "    <thead>\n",
       "        <tr>\n",
       "            <th>EMPL_ID</th>\n",
       "            <th>YEARS_OF_SERVICE</th>\n",
       "            <th>AVG_YEARS_OF_SERVICE</th>\n",
       "        </tr>\n",
       "    </thead>\n",
       "    <tbody>\n",
       "        <tr>\n",
       "            <td>E1001</td>\n",
       "            <td>24</td>\n",
       "            <td>19.3</td>\n",
       "        </tr>\n",
       "        <tr>\n",
       "            <td>E1002</td>\n",
       "            <td>23</td>\n",
       "            <td>19.3</td>\n",
       "        </tr>\n",
       "        <tr>\n",
       "            <td>E1003</td>\n",
       "            <td>23</td>\n",
       "            <td>19.3</td>\n",
       "        </tr>\n",
       "        <tr>\n",
       "            <td>E1004</td>\n",
       "            <td>24</td>\n",
       "            <td>19.3</td>\n",
       "        </tr>\n",
       "        <tr>\n",
       "            <td>E1005</td>\n",
       "            <td>24</td>\n",
       "            <td>19.3</td>\n",
       "        </tr>\n",
       "        <tr>\n",
       "            <td>E1006</td>\n",
       "            <td>23</td>\n",
       "            <td>19.3</td>\n",
       "        </tr>\n",
       "        <tr>\n",
       "            <td>E1007</td>\n",
       "            <td>22</td>\n",
       "            <td>19.3</td>\n",
       "        </tr>\n",
       "        <tr>\n",
       "            <td>E1008</td>\n",
       "            <td>14</td>\n",
       "            <td>19.3</td>\n",
       "        </tr>\n",
       "        <tr>\n",
       "            <td>E1009</td>\n",
       "            <td>8</td>\n",
       "            <td>19.3</td>\n",
       "        </tr>\n",
       "        <tr>\n",
       "            <td>E1010</td>\n",
       "            <td>8</td>\n",
       "            <td>19.3</td>\n",
       "        </tr>\n",
       "    </tbody>\n",
       "</table>"
      ],
      "text/plain": [
       "[('E1001', 24, 19.3),\n",
       " ('E1002', 23, 19.3),\n",
       " ('E1003', 23, 19.3),\n",
       " ('E1004', 24, 19.3),\n",
       " ('E1005', 24, 19.3),\n",
       " ('E1006', 23, 19.3),\n",
       " ('E1007', 22, 19.3),\n",
       " ('E1008', 14, 19.3),\n",
       " ('E1009', 8, 19.3),\n",
       " ('E1010', 8, 19.3)]"
      ]
     },
     "execution_count": 20,
     "metadata": {},
     "output_type": "execute_result"
    }
   ],
   "source": [
    "%%sql\n",
    "\n",
    "SELECT EMPL_ID, \n",
    "       (CAST(strftime('%Y', 'now') AS INTEGER) - CAST(strftime('%Y', START_DATE) AS INTEGER)) AS YEARS_OF_SERVICE,\n",
    "       (SELECT AVG(CAST(strftime('%Y', 'now') AS INTEGER) - CAST(strftime('%Y', START_DATE) AS INTEGER)) FROM JOB_HISTORY) AS AVG_YEARS_OF_SERVICE\n",
    "FROM JOB_HISTORY;\n"
   ]
  },
  {
   "cell_type": "markdown",
   "id": "a21c38c0-fd20-4522-a3e5-c1980ce4c978",
   "metadata": {},
   "source": [
    "7. Retrieve only the list of employees whose JOB_TITLE is Jr. Designer."
   ]
  },
  {
   "cell_type": "code",
   "execution_count": null,
   "id": "27338c2d-c3ec-4227-aacc-e31eef7c69c9",
   "metadata": {},
   "outputs": [],
   "source": [
    "# solution1 : using implicit join"
   ]
  },
  {
   "cell_type": "code",
   "execution_count": 55,
   "id": "3d041646-d368-4fe5-aa29-7aa98be103fc",
   "metadata": {},
   "outputs": [
    {
     "name": "stdout",
     "output_type": "stream",
     "text": [
      " * sqlite:///HR.db\n",
      "Done.\n"
     ]
    },
    {
     "data": {
      "text/html": [
       "<table>\n",
       "    <thead>\n",
       "        <tr>\n",
       "            <th>JOB_ID</th>\n",
       "            <th>F_NAME</th>\n",
       "            <th>L_NAME</th>\n",
       "        </tr>\n",
       "    </thead>\n",
       "    <tbody>\n",
       "        <tr>\n",
       "            <td>650</td>\n",
       "            <td>Mary</td>\n",
       "            <td>Thomas</td>\n",
       "        </tr>\n",
       "        <tr>\n",
       "            <td>660</td>\n",
       "            <td>Bharath</td>\n",
       "            <td>Gupta</td>\n",
       "        </tr>\n",
       "    </tbody>\n",
       "</table>"
      ],
      "text/plain": [
       "[(650, 'Mary', 'Thomas'), (660, 'Bharath', 'Gupta')]"
      ]
     },
     "execution_count": 55,
     "metadata": {},
     "output_type": "execute_result"
    }
   ],
   "source": [
    "%%sql\n",
    "\n",
    "SELECT E.JOB_ID, E.F_NAME, E.L_NAME FROM EMPLOYEES E,  JOBS J\n",
    "WHERE E.JOB_ID = J.JOB_IDENT\n",
    "AND\n",
    "J.JOB_TITLE= 'Jr. Designer';"
   ]
  },
  {
   "cell_type": "code",
   "execution_count": null,
   "id": "258456d3-f7b7-45ea-8505-23647610ddf8",
   "metadata": {},
   "outputs": [],
   "source": [
    "# solution2: using sub-queries"
   ]
  },
  {
   "cell_type": "code",
   "execution_count": 56,
   "id": "be7b2b58-bab6-4a5c-a012-a1dd338707e4",
   "metadata": {},
   "outputs": [
    {
     "name": "stdout",
     "output_type": "stream",
     "text": [
      " * sqlite:///HR.db\n",
      "Done.\n"
     ]
    },
    {
     "data": {
      "text/html": [
       "<table>\n",
       "    <thead>\n",
       "        <tr>\n",
       "            <th>JOB_ID</th>\n",
       "            <th>F_NAME</th>\n",
       "            <th>L_NAME</th>\n",
       "        </tr>\n",
       "    </thead>\n",
       "    <tbody>\n",
       "        <tr>\n",
       "            <td>650</td>\n",
       "            <td>Mary</td>\n",
       "            <td>Thomas</td>\n",
       "        </tr>\n",
       "        <tr>\n",
       "            <td>660</td>\n",
       "            <td>Bharath</td>\n",
       "            <td>Gupta</td>\n",
       "        </tr>\n",
       "    </tbody>\n",
       "</table>"
      ],
      "text/plain": [
       "[(650, 'Mary', 'Thomas'), (660, 'Bharath', 'Gupta')]"
      ]
     },
     "execution_count": 56,
     "metadata": {},
     "output_type": "execute_result"
    }
   ],
   "source": [
    "%%sql\n",
    "\n",
    "SELECT JOB_ID, F_NAME, L_NAME FROM EMPLOYEES \n",
    "WHERE JOB_ID\n",
    "IN\n",
    "(SELECT JOB_IDENT FROM JOBS WHERE JOB_TITLE = 'Jr. Designer');"
   ]
  },
  {
   "cell_type": "markdown",
   "id": "427e548b-2985-49e9-b052-1373e83f50c8",
   "metadata": {},
   "source": [
    "8. Retrieve JOB information and a list of employees whose birth year is after 1976."
   ]
  },
  {
   "cell_type": "code",
   "execution_count": null,
   "id": "22b2e9c3-036e-4970-92d6-651053295fbb",
   "metadata": {},
   "outputs": [],
   "source": [
    "# solution : using implicit join"
   ]
  },
  {
   "cell_type": "code",
   "execution_count": 63,
   "id": "213e8e49-578b-48ac-bbb8-481f653f2db6",
   "metadata": {},
   "outputs": [
    {
     "name": "stdout",
     "output_type": "stream",
     "text": [
      " * sqlite:///HR.db\n",
      "Done.\n"
     ]
    },
    {
     "data": {
      "text/html": [
       "<table>\n",
       "    <thead>\n",
       "        <tr>\n",
       "            <th>JOB_IDENT</th>\n",
       "            <th>JOB_TITLE</th>\n",
       "            <th>MIN_SALARY</th>\n",
       "            <th>MAX_SALARY</th>\n",
       "            <th>F_NAME</th>\n",
       "            <th>L_NAME</th>\n",
       "            <th>B_DATE</th>\n",
       "        </tr>\n",
       "    </thead>\n",
       "    <tbody>\n",
       "        <tr>\n",
       "            <td>300</td>\n",
       "            <td>Jr.Software Developer</td>\n",
       "            <td>40000</td>\n",
       "            <td>60000</td>\n",
       "            <td>Steve</td>\n",
       "            <td>Wells</td>\n",
       "            <td>1980-10-08</td>\n",
       "        </tr>\n",
       "        <tr>\n",
       "            <td>400</td>\n",
       "            <td>Jr.Software Developer</td>\n",
       "            <td>40000</td>\n",
       "            <td>60000</td>\n",
       "            <td>Santosh</td>\n",
       "            <td>Kumar</td>\n",
       "            <td>1985-07-20</td>\n",
       "        </tr>\n",
       "        <tr>\n",
       "            <td>500</td>\n",
       "            <td>Jr. Architect</td>\n",
       "            <td>50000</td>\n",
       "            <td>70000</td>\n",
       "            <td>Ahmed</td>\n",
       "            <td>Hussain</td>\n",
       "            <td>1981-04-01</td>\n",
       "        </tr>\n",
       "        <tr>\n",
       "            <td>600</td>\n",
       "            <td>Lead Architect</td>\n",
       "            <td>70000</td>\n",
       "            <td>100000</td>\n",
       "            <td>Nancy</td>\n",
       "            <td>Allen</td>\n",
       "            <td>1978-06-02</td>\n",
       "        </tr>\n",
       "        <tr>\n",
       "            <td>660</td>\n",
       "            <td>Jr. Designer</td>\n",
       "            <td>60000</td>\n",
       "            <td>70000</td>\n",
       "            <td>Bharath</td>\n",
       "            <td>Gupta</td>\n",
       "            <td>1985-06-05</td>\n",
       "        </tr>\n",
       "        <tr>\n",
       "            <td>234</td>\n",
       "            <td>Sr. Designer</td>\n",
       "            <td>70000</td>\n",
       "            <td>90000</td>\n",
       "            <td>Andrea</td>\n",
       "            <td>Jones</td>\n",
       "            <td>1990-09-07</td>\n",
       "        </tr>\n",
       "        <tr>\n",
       "            <td>220</td>\n",
       "            <td>Sr. Designer</td>\n",
       "            <td>70000</td>\n",
       "            <td>90000</td>\n",
       "            <td>Ann</td>\n",
       "            <td>Jacob</td>\n",
       "            <td>1982-03-30</td>\n",
       "        </tr>\n",
       "    </tbody>\n",
       "</table>"
      ],
      "text/plain": [
       "[(300, 'Jr.Software Developer', 40000, 60000, 'Steve', 'Wells', '1980-10-08'),\n",
       " (400, 'Jr.Software Developer', 40000, 60000, 'Santosh', 'Kumar', '1985-07-20'),\n",
       " (500, 'Jr. Architect', 50000, 70000, 'Ahmed', 'Hussain', '1981-04-01'),\n",
       " (600, 'Lead Architect', 70000, 100000, 'Nancy', 'Allen', '1978-06-02'),\n",
       " (660, 'Jr. Designer', 60000, 70000, 'Bharath', 'Gupta', '1985-06-05'),\n",
       " (234, 'Sr. Designer', 70000, 90000, 'Andrea', 'Jones', '1990-09-07'),\n",
       " (220, 'Sr. Designer', 70000, 90000, 'Ann', 'Jacob', '1982-03-30')]"
      ]
     },
     "execution_count": 63,
     "metadata": {},
     "output_type": "execute_result"
    }
   ],
   "source": [
    "%%sql\n",
    "\n",
    "SELECT J.JOB_IDENT, J.JOB_TITLE, J.MIN_SALARY, J.MAX_SALARY, E.F_NAME, E.L_NAME, E.B_DATE FROM JOBS J, EMPLOYEES E\n",
    "WHERE J.JOB_IDENT=E.JOB_ID \n",
    "AND\n",
    "CAST(strftime('%Y', E.B_DATE) AS INTEGER)>1976;\n"
   ]
  }
 ],
 "metadata": {
  "kernelspec": {
   "display_name": "Python 3 (ipykernel)",
   "language": "python",
   "name": "python3"
  },
  "language_info": {
   "codemirror_mode": {
    "name": "ipython",
    "version": 3
   },
   "file_extension": ".py",
   "mimetype": "text/x-python",
   "name": "python",
   "nbconvert_exporter": "python",
   "pygments_lexer": "ipython3",
   "version": "3.12.2"
  }
 },
 "nbformat": 4,
 "nbformat_minor": 5
}
