{
 "cells": [
  {
   "cell_type": "markdown",
   "id": "2eef2fdf-19c1-4382-a7e9-65256257ec73",
   "metadata": {},
   "source": [
    "**By Kurosh Karimi**"
   ]
  },
  {
   "cell_type": "markdown",
   "id": "af463157-4936-43d0-a779-6a98d4c9c0b9",
   "metadata": {},
   "source": [
    "### Pet Sale (stored procedure)"
   ]
  },
  {
   "cell_type": "markdown",
   "id": "894bc44a-23d7-4390-8431-8992414ba1a9",
   "metadata": {},
   "source": [
    "**(This project belongs to IBM Data Analytics Professional Course)**"
   ]
  },
  {
   "cell_type": "code",
   "execution_count": null,
   "id": "a7bc8ab6-cd6c-4fe0-aa71-9d870b03fe81",
   "metadata": {},
   "outputs": [],
   "source": [
    "In this project, we want to create and execute a stored procedure to write/modify data in a table on MySQL using SQL.\n",
    "However, we do not connect to any database and only show the codes\n",
    "\n",
    "Task:\n",
    "\n",
    "1. create a stored procedure routine named UPDATE_SALEPRICE with parameters Animal_ID and Animal_Health\n",
    "\n",
    "This UPDATE_SALEPRICE routine should contain SQL queries to update the sale price of the animals in the PETSALE table (attached to this directory) depending on their health conditions- BAD or WORSE.\n",
    "\n",
    "This procedure routine will take animal ID and health conditon as parameters which will be used to update the sale price of animal in the PETSALE table by an amount depending on their health condition. Suppose that:\n",
    "\n",
    "For animal with ID XX having BAD health condition, the sale price will be reduced further by 25%.\n",
    "For animal with ID YY having WORSE health condition, the sale price will be reduced further by 50%.\n",
    "For animal with ID ZZ having other health condition, the sale price won't change."
   ]
  },
  {
   "cell_type": "markdown",
   "id": "46e813fd-9d42-414d-86af-defadbe4f970",
   "metadata": {},
   "source": [
    "PETSALE table is shown below."
   ]
  },
  {
   "cell_type": "code",
   "execution_count": null,
   "id": "60bb5f66-fe60-41b5-9d76-c121afa8ccb6",
   "metadata": {},
   "outputs": [],
   "source": [
    "ID\tANIMAL\tQUANTITY\tSALEPRICE\tSALEDATE\n",
    "1\tCat\t9\t450.09\t2018-05-29\n",
    "2\tDog\t3\t666.66\t2018-06-01\n",
    "3\tDog\t1\t100\t2018-06-04\n",
    "4\tParrot\t2\t50\t2018-06-04\n",
    "5\tDog\t1\t75.75\t2018-06-10\n",
    "6\tHamster\t6\t60.6\t2018-06-11\n",
    "7\tCat\t1\t44.44\t2018-06-11\n",
    "8\tGoldfish\t24\t48.48\t2018-06-14\n",
    "9\tDog\t2\t222.22\t2018-06-15\n",
    "\n"
   ]
  },
  {
   "cell_type": "code",
   "execution_count": null,
   "id": "8365d972-8012-4aba-ac4c-0c83fbacd2ff",
   "metadata": {},
   "outputs": [],
   "source": [
    "2. UPDATE_SALEPRICE routine- update the sale price of animal with ID 1 having BAD health condition in the PETSALE table.\n",
    "\n",
    "3. Drop the stored procedure routine UPDATE_SALEPRICE, and call it to make sure it is dorpped."
   ]
  },
  {
   "cell_type": "markdown",
   "id": "2c0b0706-e3a3-4d70-b017-7025f1680a50",
   "metadata": {},
   "source": [
    "**Answer 1:**"
   ]
  },
  {
   "cell_type": "code",
   "execution_count": null,
   "id": "59667d04-e839-477c-97c7-41698132b147",
   "metadata": {},
   "outputs": [],
   "source": [
    "DELIMITER @\n",
    "CREATE PROCEDURE UPDATE_SALEPRICE (IN Animal_ID INTEGER, IN Animal_Health VARCHAR(5))\n",
    "BEGIN\n",
    "    IF Animal_Health = 'BAD' THEN\n",
    "        UPDATE PETSALE\n",
    "        SET SALEPRICE = SALEPRICE - (SALEPRICE * 0.25)\n",
    "        WHERE ID = Animal_ID;\n",
    "    ELSEIF Animal_Health = 'WORSE' THEN\n",
    "        UPDATE PETSALE\n",
    "        SET SALEPRICE = SALEPRICE - (SALEPRICE * 0.5)\n",
    "        WHERE ID = Animal_ID;\n",
    "    ELSE\n",
    "        UPDATE PETSALE\n",
    "        SET SALEPRICE = SALEPRICE\n",
    "        WHERE ID = Animal_ID;\n",
    "    END IF;\n",
    "END @\n",
    "\n",
    "DELIMITER ;"
   ]
  },
  {
   "cell_type": "markdown",
   "id": "07d6a836-2eb8-49e8-8210-b0b62afe21d9",
   "metadata": {},
   "source": [
    "**Answer 2:**"
   ]
  },
  {
   "cell_type": "code",
   "execution_count": null,
   "id": "8781e886-380a-41de-b8bc-aa39205b04c1",
   "metadata": {},
   "outputs": [],
   "source": [
    " CALL UPDATE_SALEPRICE(1, 'BAD');"
   ]
  },
  {
   "cell_type": "markdown",
   "id": "c478181a-3920-48e5-9888-61c8f88c04fb",
   "metadata": {},
   "source": [
    "**Answer 3:**"
   ]
  },
  {
   "cell_type": "code",
   "execution_count": null,
   "id": "c66705d0-7e7f-49cc-9fcc-33846ee2d430",
   "metadata": {},
   "outputs": [],
   "source": [
    "DROP PROCEDURE UPDATE_SALEPRICE;\n",
    "CALL UPDATE_SALEPRICE;"
   ]
  }
 ],
 "metadata": {
  "kernelspec": {
   "display_name": "Python 3 (ipykernel)",
   "language": "python",
   "name": "python3"
  },
  "language_info": {
   "codemirror_mode": {
    "name": "ipython",
    "version": 3
   },
   "file_extension": ".py",
   "mimetype": "text/x-python",
   "name": "python",
   "nbconvert_exporter": "python",
   "pygments_lexer": "ipython3",
   "version": "3.12.2"
  }
 },
 "nbformat": 4,
 "nbformat_minor": 5
}
