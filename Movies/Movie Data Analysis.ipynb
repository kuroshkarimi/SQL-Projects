{
 "cells": [
  {
   "cell_type": "markdown",
   "id": "2eef2fdf-19c1-4382-a7e9-65256257ec73",
   "metadata": {},
   "source": [
    "**By Kurosh Karimi**"
   ]
  },
  {
   "cell_type": "markdown",
   "id": "46e813fd-9d42-414d-86af-defadbe4f970",
   "metadata": {},
   "source": [
    "We have a csv file with information about filming locations of movies shot in San Francisco starting from 1924. \n",
    "The data used in this task comes from the following dataset source: https://data.sfgov.org/Culture-and-Recreation/Film-Locations-in-San-Francisco/yitu-d5am/about_data. the data set is attached to this directory as \"Film_Locations_in_San_Francisco_20240808.csv\".\n",
    "We have columns of title, location, fun fact, name of the director, writer, actor, and studio for most of these films. First, connect to SQLite database and load the csv file into it and then run the following queries:"
   ]
  },
  {
   "cell_type": "markdown",
   "id": "a41b031b-4052-4fbf-bdb2-62a47810e452",
   "metadata": {},
   "source": [
    "**Task**\n",
    "\n",
    "1) Retrieve the number of rows having a release year older than 1950\n",
    "2) Retrieve the number of distributors distinctly who distributed films acted by Clint Eastwood as 1st actor.\n",
    "3) Retrieve first 10 film names distinctly released in 2015"
   ]
  },
  {
   "cell_type": "code",
   "execution_count": 1,
   "id": "e50b2ca3-69a2-4e61-9e7f-054282d595ac",
   "metadata": {},
   "outputs": [],
   "source": [
    "# !pip install ipython-sql sqlalchemy pandas"
   ]
  },
  {
   "cell_type": "code",
   "execution_count": 2,
   "id": "6e07b4eb-8ed0-4bcc-8f02-75f910e978b7",
   "metadata": {},
   "outputs": [],
   "source": [
    "import pandas as pd\n",
    "import csv, sqlite3\n",
    "%load_ext sql"
   ]
  },
  {
   "cell_type": "code",
   "execution_count": 3,
   "id": "2037bfe3-d9c9-4344-a8bc-92e9544bb61f",
   "metadata": {
    "scrolled": true
   },
   "outputs": [
    {
     "data": {
      "text/plain": [
       "Index(['Title', 'Release Year', 'Locations', 'Fun Facts', 'Production Company',\n",
       "       'Distributor', 'Director', 'Writer', 'Actor 1', 'Actor 2', 'Actor 3',\n",
       "       'SF Find Neighborhoods', 'Analysis Neighborhoods',\n",
       "       'Current Supervisor Districts'],\n",
       "      dtype='object')"
      ]
     },
     "execution_count": 3,
     "metadata": {},
     "output_type": "execute_result"
    }
   ],
   "source": [
    "df = pd.read_csv('Film_Locations_in_San_Francisco_20240808.csv')\n",
    "df.columns"
   ]
  },
  {
   "cell_type": "code",
   "execution_count": 4,
   "id": "d1cec712-7f4b-4568-abdc-656673b9f6a3",
   "metadata": {},
   "outputs": [],
   "source": [
    "renamed_df = df.rename(columns = {'Release Year':'Release_Year', 'Fun Facts': 'Fun_Facts', 'Production Company': 'Production_Company',\n",
    "       'Actor 1': 'Actor_1', 'Actor 2': 'Actor_2', 'Actor 3': 'Actor_3',\n",
    "       'SF Find Neighborhoods': 'SF_Find_Neighborhoods', 'Analysis Neighborhoods': 'Analysis_Neighborhoods',\n",
    "       'Current Supervisor Districts': 'Current_Supervisor_Districts'})"
   ]
  },
  {
   "cell_type": "code",
   "execution_count": 5,
   "id": "49d98bfb-54ba-4c30-a853-e548fa7dbbd8",
   "metadata": {},
   "outputs": [],
   "source": [
    "# Create a connection to the SQLite database\n",
    "con = sqlite3.connect('SQLITE_DATABASE.db')"
   ]
  },
  {
   "cell_type": "code",
   "execution_count": 6,
   "id": "1821cb12-e2d3-473f-bed5-1ee01559ee74",
   "metadata": {},
   "outputs": [
    {
     "name": "stdout",
     "output_type": "stream",
     "text": [
      "Done.\n"
     ]
    },
    {
     "data": {
      "text/plain": [
       "[]"
      ]
     },
     "execution_count": 6,
     "metadata": {},
     "output_type": "execute_result"
    }
   ],
   "source": [
    "%%sql \n",
    "sqlite:///SQLITE_DATABASE.db\n",
    "DROP TABLE IF EXISTS movie;"
   ]
  },
  {
   "cell_type": "code",
   "execution_count": 7,
   "id": "1b8c093e-1727-4793-aa90-d6cbe2248d8f",
   "metadata": {},
   "outputs": [],
   "source": [
    "# Insert the DataFrame into the database. This will automatically create the table.\n",
    "renamed_df.to_sql('movies', con, if_exists='replace', index=False, method='multi')\n",
    "con.close()"
   ]
  },
  {
   "cell_type": "code",
   "execution_count": 8,
   "id": "d6883705-0244-4001-95b9-37495ca4f1f1",
   "metadata": {},
   "outputs": [
    {
     "name": "stdout",
     "output_type": "stream",
     "text": [
      " * sqlite:///SQLITE_DATABASE.db\n",
      "Done.\n"
     ]
    },
    {
     "data": {
      "text/html": [
       "<table>\n",
       "    <thead>\n",
       "        <tr>\n",
       "            <th>Title</th>\n",
       "            <th>Release_Year</th>\n",
       "            <th>Locations</th>\n",
       "            <th>Fun_Facts</th>\n",
       "            <th>Production_Company</th>\n",
       "            <th>Distributor</th>\n",
       "            <th>Director</th>\n",
       "            <th>Writer</th>\n",
       "            <th>Actor_1</th>\n",
       "            <th>Actor_2</th>\n",
       "            <th>Actor_3</th>\n",
       "            <th>SF_Find_Neighborhoods</th>\n",
       "            <th>Analysis_Neighborhoods</th>\n",
       "            <th>Current_Supervisor_Districts</th>\n",
       "        </tr>\n",
       "    </thead>\n",
       "    <tbody>\n",
       "        <tr>\n",
       "            <td>Experiment in Terror</td>\n",
       "            <td>1962</td>\n",
       "            <td>The Sea Captain&#x27;s Chest (Fisherman&#x27;s Wharf)</td>\n",
       "            <td>None</td>\n",
       "            <td>Columbia Pictures Corporation</td>\n",
       "            <td>Columbia Pictures</td>\n",
       "            <td>Blake Edwards</td>\n",
       "            <td>The Gordons</td>\n",
       "            <td>Glenn Ford</td>\n",
       "            <td>Lee Remick</td>\n",
       "            <td>Stefanie Powers</td>\n",
       "            <td>99.0</td>\n",
       "            <td>23.0</td>\n",
       "            <td>3.0</td>\n",
       "        </tr>\n",
       "        <tr>\n",
       "            <td>Experiment in Terror</td>\n",
       "            <td>1962</td>\n",
       "            <td>100 St. Germain Avenue</td>\n",
       "            <td>None</td>\n",
       "            <td>Columbia Pictures Corporation</td>\n",
       "            <td>Columbia Pictures</td>\n",
       "            <td>Blake Edwards</td>\n",
       "            <td>The Gordons</td>\n",
       "            <td>Glenn Ford</td>\n",
       "            <td>Lee Remick</td>\n",
       "            <td>Stefanie Powers</td>\n",
       "            <td>47.0</td>\n",
       "            <td>38.0</td>\n",
       "            <td>8.0</td>\n",
       "        </tr>\n",
       "        <tr>\n",
       "            <td>Chan is Missing</td>\n",
       "            <td>1982</td>\n",
       "            <td>Li Po (916 Grant Avenue at Washington, Chinatown)</td>\n",
       "            <td>None</td>\n",
       "            <td>New Yorker Films</td>\n",
       "            <td>New Yorker Films</td>\n",
       "            <td>Wayne Wang</td>\n",
       "            <td>Wayne Wang</td>\n",
       "            <td>Wood Moy</td>\n",
       "            <td>Marc Hayashi</td>\n",
       "            <td>Lauren Chew</td>\n",
       "            <td>104.0</td>\n",
       "            <td>6.0</td>\n",
       "            <td>3.0</td>\n",
       "        </tr>\n",
       "        <tr>\n",
       "            <td>A View to a Kill</td>\n",
       "            <td>1985</td>\n",
       "            <td>Taylor and Jefferson Streets (Fisherman&#x27;s Wharf)</td>\n",
       "            <td>None</td>\n",
       "            <td>Metro-Goldwyn Mayer</td>\n",
       "            <td>MGM/UA Entertainment Company</td>\n",
       "            <td>John Glen</td>\n",
       "            <td>Richard Maibaum</td>\n",
       "            <td>Roger Moore</td>\n",
       "            <td>Christopher Walken</td>\n",
       "            <td>Tanya Roberts</td>\n",
       "            <td>99.0</td>\n",
       "            <td>23.0</td>\n",
       "            <td>3.0</td>\n",
       "        </tr>\n",
       "        <tr>\n",
       "            <td>The Californians</td>\n",
       "            <td>2005</td>\n",
       "            <td>None</td>\n",
       "            <td>None</td>\n",
       "            <td>Parker Film Company</td>\n",
       "            <td>Fabrication Films</td>\n",
       "            <td>Jonathan Parker</td>\n",
       "            <td>Jonathan Parker &amp; Catherine DiNapoli</td>\n",
       "            <td>Noah Wyle</td>\n",
       "            <td>None</td>\n",
       "            <td>None</td>\n",
       "            <td>21.0</td>\n",
       "            <td>36.0</td>\n",
       "            <td>10.0</td>\n",
       "        </tr>\n",
       "    </tbody>\n",
       "</table>"
      ],
      "text/plain": [
       "[('Experiment in Terror', 1962, \"The Sea Captain's Chest (Fisherman's Wharf)\", None, 'Columbia Pictures Corporation', 'Columbia Pictures', 'Blake Edwards', 'The Gordons', 'Glenn Ford', 'Lee Remick', 'Stefanie Powers', 99.0, 23.0, 3.0),\n",
       " ('Experiment in Terror', 1962, '100 St. Germain Avenue', None, 'Columbia Pictures Corporation', 'Columbia Pictures', 'Blake Edwards', 'The Gordons', 'Glenn Ford', 'Lee Remick', 'Stefanie Powers', 47.0, 38.0, 8.0),\n",
       " ('Chan is Missing', 1982, 'Li Po (916 Grant Avenue at Washington, Chinatown)', None, 'New Yorker Films', 'New Yorker Films', 'Wayne Wang', 'Wayne Wang', 'Wood Moy', 'Marc Hayashi', 'Lauren Chew', 104.0, 6.0, 3.0),\n",
       " ('A View to a Kill', 1985, \"Taylor and Jefferson Streets (Fisherman's Wharf)\", None, 'Metro-Goldwyn Mayer', 'MGM/UA Entertainment Company', 'John Glen', 'Richard Maibaum', 'Roger Moore', 'Christopher Walken', 'Tanya Roberts', 99.0, 23.0, 3.0),\n",
       " ('The Californians', 2005, None, None, 'Parker Film Company', 'Fabrication Films', 'Jonathan Parker', 'Jonathan Parker & Catherine DiNapoli', 'Noah Wyle', None, None, 21.0, 36.0, 10.0)]"
      ]
     },
     "execution_count": 8,
     "metadata": {},
     "output_type": "execute_result"
    }
   ],
   "source": [
    "%%sql\n",
    "\n",
    "SELECT * FROM movies LIMIT 5;"
   ]
  },
  {
   "cell_type": "raw",
   "id": "d913cbe5-8d20-477a-a72b-54cf566d65e4",
   "metadata": {},
   "source": []
  },
  {
   "cell_type": "markdown",
   "id": "8bf2f4eb-23b9-4bfc-9b1d-dc509f5e382a",
   "metadata": {},
   "source": [
    "1. Retrieve the number of rows having a release year older than 1950"
   ]
  },
  {
   "cell_type": "code",
   "execution_count": 9,
   "id": "02ff4b4b-9120-44f4-a98f-a7ca63a7598b",
   "metadata": {},
   "outputs": [
    {
     "name": "stdout",
     "output_type": "stream",
     "text": [
      " * sqlite:///SQLITE_DATABASE.db\n",
      "Done.\n"
     ]
    },
    {
     "data": {
      "text/html": [
       "<table>\n",
       "    <thead>\n",
       "        <tr>\n",
       "            <th>COUNT(*)</th>\n",
       "        </tr>\n",
       "    </thead>\n",
       "    <tbody>\n",
       "        <tr>\n",
       "            <td>31</td>\n",
       "        </tr>\n",
       "    </tbody>\n",
       "</table>"
      ],
      "text/plain": [
       "[(31,)]"
      ]
     },
     "execution_count": 9,
     "metadata": {},
     "output_type": "execute_result"
    }
   ],
   "source": [
    "%sql  SELECT COUNT(*) FROM movies WHERE Release_Year<1950;"
   ]
  },
  {
   "cell_type": "markdown",
   "id": "20e98044-3086-41fe-8515-73aeaeda1a3c",
   "metadata": {},
   "source": [
    "2. Retrieve the number of distributors distinctly who distributed films acted by Clint Eastwood as 1st actor."
   ]
  },
  {
   "cell_type": "code",
   "execution_count": 10,
   "id": "87b83133-b2a2-43ea-aa87-985ba08558a8",
   "metadata": {},
   "outputs": [
    {
     "name": "stdout",
     "output_type": "stream",
     "text": [
      " * sqlite:///SQLITE_DATABASE.db\n",
      "Done.\n"
     ]
    },
    {
     "data": {
      "text/html": [
       "<table>\n",
       "    <thead>\n",
       "        <tr>\n",
       "            <th>COUNT(DISTINCT Distributor)</th>\n",
       "        </tr>\n",
       "    </thead>\n",
       "    <tbody>\n",
       "        <tr>\n",
       "            <td>3</td>\n",
       "        </tr>\n",
       "    </tbody>\n",
       "</table>"
      ],
      "text/plain": [
       "[(3,)]"
      ]
     },
     "execution_count": 10,
     "metadata": {},
     "output_type": "execute_result"
    }
   ],
   "source": [
    "%sql  SELECT COUNT(DISTINCT Distributor) FROM movies WHERE Actor_1 = 'Clint Eastwood'"
   ]
  },
  {
   "cell_type": "markdown",
   "id": "fc0d9004-109a-4651-89ba-fbc140df561d",
   "metadata": {},
   "source": [
    "3. Retrieve first 10 film names distinctly released in 2015."
   ]
  },
  {
   "cell_type": "code",
   "execution_count": 11,
   "id": "3dbd64c0-0643-44fa-aa47-b1ed4e2eeb25",
   "metadata": {},
   "outputs": [
    {
     "name": "stdout",
     "output_type": "stream",
     "text": [
      " * sqlite:///SQLITE_DATABASE.db\n",
      "Done.\n"
     ]
    },
    {
     "data": {
      "text/html": [
       "<table>\n",
       "    <thead>\n",
       "        <tr>\n",
       "            <th>Title</th>\n",
       "        </tr>\n",
       "    </thead>\n",
       "    <tbody>\n",
       "        <tr>\n",
       "            <td>The Diary of a Teenage Girl</td>\n",
       "        </tr>\n",
       "        <tr>\n",
       "            <td>Quitters</td>\n",
       "        </tr>\n",
       "        <tr>\n",
       "            <td>Murder in the First, Season 2</td>\n",
       "        </tr>\n",
       "        <tr>\n",
       "            <td>Looking Season 2 ep 202</td>\n",
       "        </tr>\n",
       "        <tr>\n",
       "            <td>Sense8</td>\n",
       "        </tr>\n",
       "        <tr>\n",
       "            <td>Terminator - Genisys</td>\n",
       "        </tr>\n",
       "        <tr>\n",
       "            <td>Ant-Man</td>\n",
       "        </tr>\n",
       "        <tr>\n",
       "            <td>San Andreas</td>\n",
       "        </tr>\n",
       "        <tr>\n",
       "            <td>Looking Season 2 ep 209</td>\n",
       "        </tr>\n",
       "        <tr>\n",
       "            <td>Summertime</td>\n",
       "        </tr>\n",
       "    </tbody>\n",
       "</table>"
      ],
      "text/plain": [
       "[('The Diary of a Teenage Girl',),\n",
       " ('Quitters',),\n",
       " ('Murder in the First, Season 2',),\n",
       " ('Looking Season 2 ep 202',),\n",
       " ('Sense8',),\n",
       " ('Terminator - Genisys',),\n",
       " ('Ant-Man',),\n",
       " ('San Andreas',),\n",
       " ('Looking Season 2 ep 209',),\n",
       " ('Summertime',)]"
      ]
     },
     "execution_count": 11,
     "metadata": {},
     "output_type": "execute_result"
    }
   ],
   "source": [
    "%sql  SELECT DISTINCT Title FROM movies WHERE Release_Year=2015 LIMIT 10;"
   ]
  },
  {
   "cell_type": "code",
   "execution_count": null,
   "id": "609a7f57-48db-4e00-bbf6-87d5e5897272",
   "metadata": {},
   "outputs": [],
   "source": []
  }
 ],
 "metadata": {
  "kernelspec": {
   "display_name": "Python 3 (ipykernel)",
   "language": "python",
   "name": "python3"
  },
  "language_info": {
   "codemirror_mode": {
    "name": "ipython",
    "version": 3
   },
   "file_extension": ".py",
   "mimetype": "text/x-python",
   "name": "python",
   "nbconvert_exporter": "python",
   "pygments_lexer": "ipython3",
   "version": "3.12.0"
  }
 },
 "nbformat": 4,
 "nbformat_minor": 5
}
