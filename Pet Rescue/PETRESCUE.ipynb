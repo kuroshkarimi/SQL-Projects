{
 "cells": [
  {
   "cell_type": "markdown",
   "id": "2eef2fdf-19c1-4382-a7e9-65256257ec73",
   "metadata": {},
   "source": [
    "**By Kurosh Karimi**"
   ]
  },
  {
   "cell_type": "markdown",
   "id": "46e813fd-9d42-414d-86af-defadbe4f970",
   "metadata": {},
   "source": [
    "We have a file, 'PETRESCUE.sql', including the sql queries related to creation of a table like what is shown below. This sql file gives us some information about several rescued animals."
   ]
  },
  {
   "attachments": {
    "3303d444-91e8-4583-91ad-2efdd72fd60a.png": {
     "image/png": "[encoded data removed]"
    }
   },
   "cell_type": "markdown",
   "id": "d83a2591-0503-49eb-b0fb-f810544e81fd",
   "metadata": {},
   "source": [
    "![image.png](attachment:3303d444-91e8-4583-91ad-2efdd72fd60a.png)"
   ]
  },
  {
   "cell_type": "markdown",
   "id": "a41b031b-4052-4fbf-bdb2-62a47810e452",
   "metadata": {},
   "source": [
    "**Task**\n",
    "\n",
    "1) Connect to SQLite database, create database instance, named \"MY_DATABASE.db\". Import PETRESCUE.sql into MY_DATABASE.db, and verify if it exists\n",
    "2) Write a query that displays the average cost of rescuing a single dog. Note that the cost per dog would not be the same in different instances\n",
    "3) Write a query that displays the animal name in each rescue in uppercase without duplications\n",
    "4) Write a query that displays all the columns from the PETRESCUE table where the animal(s) rescued are 'cats'\n",
    "5) Write a query that displays the number of rescues in the 6th month"
   ]
  },
  {
   "cell_type": "code",
   "execution_count": 1,
   "id": "e50b2ca3-69a2-4e61-9e7f-054282d595ac",
   "metadata": {},
   "outputs": [],
   "source": [
    "# !pip install ipython-sql"
   ]
  },
  {
   "cell_type": "code",
   "execution_count": 13,
   "id": "6e07b4eb-8ed0-4bcc-8f02-75f910e978b7",
   "metadata": {},
   "outputs": [
    {
     "name": "stdout",
     "output_type": "stream",
     "text": [
      "The sql extension is already loaded. To reload it, use:\n",
      "  %reload_ext sql\n"
     ]
    }
   ],
   "source": [
    "import pandas as pd\n",
    "import sqlite3\n",
    "%load_ext sql\n",
    "# Connectin to the SQLite database\n",
    "%sql sqlite:///MY_DATABASE.db\n"
   ]
  },
  {
   "cell_type": "markdown",
   "id": "23bea998-95bf-4172-be98-e511fa290efa",
   "metadata": {},
   "source": [
    "1) Connecting to SQLite database, creating database instance. Importing PETRESCUE.sql into MY_DATABASE.db, and verifying if it exists"
   ]
  },
  {
   "cell_type": "code",
   "execution_count": 3,
   "id": "49d98bfb-54ba-4c30-a853-e548fa7dbbd8",
   "metadata": {},
   "outputs": [],
   "source": [
    "# Creating a connection to the SQLite database\n",
    "con = sqlite3.connect('MY_DATABASE.db')\n",
    "# Step 2: Create a cursor object using the connection\n",
    "cursor = con.cursor()"
   ]
  },
  {
   "cell_type": "code",
   "execution_count": 4,
   "id": "0b4c8df8-2677-4994-8fb1-593bcbdb23b9",
   "metadata": {},
   "outputs": [],
   "source": [
    "# Reading the .sql file\n",
    "with open('PETRESCUE-CREATE.sql', 'r') as sql_file:\n",
    "    sql_script = sql_file.read()"
   ]
  },
  {
   "cell_type": "code",
   "execution_count": 5,
   "id": "89dc233e-fe9e-46b3-8c7c-bcc2b02c8a3b",
   "metadata": {},
   "outputs": [
    {
     "data": {
      "text/plain": [
       "<sqlite3.Cursor at 0x1fefeb145c0>"
      ]
     },
     "execution_count": 5,
     "metadata": {},
     "output_type": "execute_result"
    }
   ],
   "source": [
    "# Executing the SQL script\n",
    "cursor.executescript(sql_script)"
   ]
  },
  {
   "cell_type": "code",
   "execution_count": 6,
   "id": "3d913629-0348-4888-a9bb-c9aca5c2a90d",
   "metadata": {},
   "outputs": [
    {
     "name": "stdout",
     "output_type": "stream",
     "text": [
      "[('PETRESCUE',)]\n"
     ]
    }
   ],
   "source": [
    "# Verifying the existence of the table by running: \n",
    "cursor.execute(\"SELECT name FROM sqlite_master WHERE type='table';\")\n",
    "print(cursor.fetchall())"
   ]
  },
  {
   "cell_type": "code",
   "execution_count": 7,
   "id": "626a787a-5a80-4f2f-8834-15d7262b950b",
   "metadata": {},
   "outputs": [],
   "source": [
    "# Closing the connection\n",
    "con.close()"
   ]
  },
  {
   "cell_type": "code",
   "execution_count": 8,
   "id": "609a7f57-48db-4e00-bbf6-87d5e5897272",
   "metadata": {
    "scrolled": true
   },
   "outputs": [
    {
     "name": "stdout",
     "output_type": "stream",
     "text": [
      " * sqlite:///MY_DATABASE.db\n",
      "Done.\n"
     ]
    },
    {
     "data": {
      "text/html": [
       "<table>\n",
       "    <thead>\n",
       "        <tr>\n",
       "            <th>ID</th>\n",
       "            <th>ANIMAL</th>\n",
       "            <th>QUANTITY</th>\n",
       "            <th>COST</th>\n",
       "            <th>RESCUEDATE</th>\n",
       "        </tr>\n",
       "    </thead>\n",
       "    <tbody>\n",
       "        <tr>\n",
       "            <td>1</td>\n",
       "            <td>Cat</td>\n",
       "            <td>9</td>\n",
       "            <td>450.09</td>\n",
       "            <td>2018-05-29</td>\n",
       "        </tr>\n",
       "        <tr>\n",
       "            <td>2</td>\n",
       "            <td>Dog</td>\n",
       "            <td>3</td>\n",
       "            <td>666.66</td>\n",
       "            <td>2018-06-01</td>\n",
       "        </tr>\n",
       "        <tr>\n",
       "            <td>3</td>\n",
       "            <td>Dog</td>\n",
       "            <td>1</td>\n",
       "            <td>100</td>\n",
       "            <td>2018-06-04</td>\n",
       "        </tr>\n",
       "        <tr>\n",
       "            <td>4</td>\n",
       "            <td>Parrot</td>\n",
       "            <td>2</td>\n",
       "            <td>50</td>\n",
       "            <td>2018-06-04</td>\n",
       "        </tr>\n",
       "        <tr>\n",
       "            <td>5</td>\n",
       "            <td>Dog</td>\n",
       "            <td>1</td>\n",
       "            <td>75.75</td>\n",
       "            <td>2018-06-10</td>\n",
       "        </tr>\n",
       "        <tr>\n",
       "            <td>6</td>\n",
       "            <td>Hamster</td>\n",
       "            <td>6</td>\n",
       "            <td>60.6</td>\n",
       "            <td>2018-06-11</td>\n",
       "        </tr>\n",
       "        <tr>\n",
       "            <td>7</td>\n",
       "            <td>Cat</td>\n",
       "            <td>1</td>\n",
       "            <td>44.44</td>\n",
       "            <td>2018-06-11</td>\n",
       "        </tr>\n",
       "        <tr>\n",
       "            <td>8</td>\n",
       "            <td>Goldfish</td>\n",
       "            <td>24</td>\n",
       "            <td>48.48</td>\n",
       "            <td>2018-06-14</td>\n",
       "        </tr>\n",
       "        <tr>\n",
       "            <td>9</td>\n",
       "            <td>Dog</td>\n",
       "            <td>2</td>\n",
       "            <td>222.22</td>\n",
       "            <td>2018-06-15</td>\n",
       "        </tr>\n",
       "    </tbody>\n",
       "</table>"
      ],
      "text/plain": [
       "[(1, 'Cat', 9, 450.09, '2018-05-29'),\n",
       " (2, 'Dog', 3, 666.66, '2018-06-01'),\n",
       " (3, 'Dog', 1, 100, '2018-06-04'),\n",
       " (4, 'Parrot', 2, 50, '2018-06-04'),\n",
       " (5, 'Dog', 1, 75.75, '2018-06-10'),\n",
       " (6, 'Hamster', 6, 60.6, '2018-06-11'),\n",
       " (7, 'Cat', 1, 44.44, '2018-06-11'),\n",
       " (8, 'Goldfish', 24, 48.48, '2018-06-14'),\n",
       " (9, 'Dog', 2, 222.22, '2018-06-15')]"
      ]
     },
     "execution_count": 8,
     "metadata": {},
     "output_type": "execute_result"
    }
   ],
   "source": [
    "%%sql \n",
    "SELECT * FROM PETRESCUE"
   ]
  },
  {
   "cell_type": "markdown",
   "id": "fdf418ab-cf1a-4a77-8f5f-06705226cf81",
   "metadata": {},
   "source": [
    "2. Write a query that displays the average cost of rescuing a single dog. Note that the cost per dog would not be the same in different instances."
   ]
  },
  {
   "cell_type": "code",
   "execution_count": 9,
   "id": "3d0e5e6a-6c7f-441a-abed-a5bfa2fcaf76",
   "metadata": {},
   "outputs": [
    {
     "name": "stdout",
     "output_type": "stream",
     "text": [
      " * sqlite:///MY_DATABASE.db\n",
      "Done.\n"
     ]
    },
    {
     "data": {
      "text/html": [
       "<table>\n",
       "    <thead>\n",
       "        <tr>\n",
       "            <th>AVG(COST/QUANTITY)</th>\n",
       "        </tr>\n",
       "    </thead>\n",
       "    <tbody>\n",
       "        <tr>\n",
       "            <td>127.27</td>\n",
       "        </tr>\n",
       "    </tbody>\n",
       "</table>"
      ],
      "text/plain": [
       "[(127.27,)]"
      ]
     },
     "execution_count": 9,
     "metadata": {},
     "output_type": "execute_result"
    }
   ],
   "source": [
    "%sql SELECT AVG(COST/QUANTITY) FROM PETRESCUE WHERE ANIMAL = 'Dog';"
   ]
  },
  {
   "cell_type": "markdown",
   "id": "ac49f172-dcf9-459d-8f1b-11da8b69a432",
   "metadata": {},
   "source": [
    "3. Write a query that displays the animal name in each rescue in uppercase without duplications."
   ]
  },
  {
   "cell_type": "code",
   "execution_count": 10,
   "id": "06716c2a-f4c6-460f-bbc4-0b182b5ae69c",
   "metadata": {},
   "outputs": [
    {
     "name": "stdout",
     "output_type": "stream",
     "text": [
      " * sqlite:///MY_DATABASE.db\n",
      "Done.\n"
     ]
    },
    {
     "data": {
      "text/html": [
       "<table>\n",
       "    <thead>\n",
       "        <tr>\n",
       "            <th>UPPER(ANIMAL)</th>\n",
       "        </tr>\n",
       "    </thead>\n",
       "    <tbody>\n",
       "        <tr>\n",
       "            <td>CAT</td>\n",
       "        </tr>\n",
       "        <tr>\n",
       "            <td>DOG</td>\n",
       "        </tr>\n",
       "        <tr>\n",
       "            <td>PARROT</td>\n",
       "        </tr>\n",
       "        <tr>\n",
       "            <td>HAMSTER</td>\n",
       "        </tr>\n",
       "        <tr>\n",
       "            <td>GOLDFISH</td>\n",
       "        </tr>\n",
       "    </tbody>\n",
       "</table>"
      ],
      "text/plain": [
       "[('CAT',), ('DOG',), ('PARROT',), ('HAMSTER',), ('GOLDFISH',)]"
      ]
     },
     "execution_count": 10,
     "metadata": {},
     "output_type": "execute_result"
    }
   ],
   "source": [
    "%sql SELECT DISTINCT UPPER(ANIMAL) FROM PETRESCUE;"
   ]
  },
  {
   "cell_type": "markdown",
   "id": "c00f1967-a6b6-4ccb-a380-1c6601ff9a2b",
   "metadata": {},
   "source": [
    "4. Write a query that displays all the columns from the PETRESCUE table where the animal(s) rescued are cats. Use cat in lowercase in the query"
   ]
  },
  {
   "cell_type": "code",
   "execution_count": 11,
   "id": "d019dafa-1a24-4338-ad21-a9ca38b7d04d",
   "metadata": {},
   "outputs": [
    {
     "name": "stdout",
     "output_type": "stream",
     "text": [
      " * sqlite:///MY_DATABASE.db\n",
      "Done.\n"
     ]
    },
    {
     "data": {
      "text/html": [
       "<table>\n",
       "    <thead>\n",
       "        <tr>\n",
       "            <th>ID</th>\n",
       "            <th>ANIMAL</th>\n",
       "            <th>QUANTITY</th>\n",
       "            <th>COST</th>\n",
       "            <th>RESCUEDATE</th>\n",
       "        </tr>\n",
       "    </thead>\n",
       "    <tbody>\n",
       "        <tr>\n",
       "            <td>1</td>\n",
       "            <td>Cat</td>\n",
       "            <td>9</td>\n",
       "            <td>450.09</td>\n",
       "            <td>2018-05-29</td>\n",
       "        </tr>\n",
       "        <tr>\n",
       "            <td>7</td>\n",
       "            <td>Cat</td>\n",
       "            <td>1</td>\n",
       "            <td>44.44</td>\n",
       "            <td>2018-06-11</td>\n",
       "        </tr>\n",
       "    </tbody>\n",
       "</table>"
      ],
      "text/plain": [
       "[(1, 'Cat', 9, 450.09, '2018-05-29'), (7, 'Cat', 1, 44.44, '2018-06-11')]"
      ]
     },
     "execution_count": 11,
     "metadata": {},
     "output_type": "execute_result"
    }
   ],
   "source": [
    "%sql SELECT * FROM PETRESCUE WHERE LOWER(ANIMAL) = 'cat';"
   ]
  },
  {
   "cell_type": "markdown",
   "id": "64c7dd93-cc3b-45fa-836e-1daffa9e996a",
   "metadata": {},
   "source": [
    "5. Write a query that displays the number of rescues in the 6th month."
   ]
  },
  {
   "cell_type": "code",
   "execution_count": 12,
   "id": "29932b32-9ae7-4304-8158-ad79b5bf37d0",
   "metadata": {},
   "outputs": [
    {
     "name": "stdout",
     "output_type": "stream",
     "text": [
      " * sqlite:///MY_DATABASE.db\n",
      "Done.\n"
     ]
    },
    {
     "data": {
      "text/html": [
       "<table>\n",
       "    <thead>\n",
       "        <tr>\n",
       "            <th>NO_OF_RESCUE</th>\n",
       "        </tr>\n",
       "    </thead>\n",
       "    <tbody>\n",
       "        <tr>\n",
       "            <td>8</td>\n",
       "        </tr>\n",
       "    </tbody>\n",
       "</table>"
      ],
      "text/plain": [
       "[(8,)]"
      ]
     },
     "execution_count": 12,
     "metadata": {},
     "output_type": "execute_result"
    }
   ],
   "source": [
    "%sql SELECT COUNT(RESCUEDATE) AS NO_OF_RESCUE FROM PETRESCUE WHERE strftime('%m', RESCUEDATE) = '06';"
   ]
  }
 ],
 "metadata": {
  "kernelspec": {
   "display_name": "Python 3 (ipykernel)",
   "language": "python",
   "name": "python3"
  },
  "language_info": {
   "codemirror_mode": {
    "name": "ipython",
    "version": 3
   },
   "file_extension": ".py",
   "mimetype": "text/x-python",
   "name": "python",
   "nbconvert_exporter": "python",
   "pygments_lexer": "ipython3",
   "version": "3.12.2"
  }
 },
 "nbformat": 4,
 "nbformat_minor": 5
}
