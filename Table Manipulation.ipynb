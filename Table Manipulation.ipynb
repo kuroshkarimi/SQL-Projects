{
 "cells": [
  {
   "cell_type": "markdown",
   "id": "2eef2fdf-19c1-4382-a7e9-65256257ec73",
   "metadata": {},
   "source": [
    "**By Kurosh Karimi**"
   ]
  },
  {
   "cell_type": "markdown",
   "id": "46e813fd-9d42-414d-86af-defadbe4f970",
   "metadata": {},
   "source": [
    "We want to create the following table in a SQLite database called 'SQLITE_DATABASE'. We call this table \"Instructor\"."
   ]
  },
  {
   "attachments": {
    "7f0d274d-8eab-4e78-b988-aff61454e180.png": {
     "image/png": "[encoded data removed]"
    }
   },
   "cell_type": "markdown",
   "id": "d83a2591-0503-49eb-b0fb-f810544e81fd",
   "metadata": {},
   "source": [
    "![instructor.png](attachment:7f0d274d-8eab-4e78-b988-aff61454e180.png)"
   ]
  },
  {
   "cell_type": "markdown",
   "id": "4e4c956b-3702-47d8-b437-243b5b8de1c7",
   "metadata": {},
   "source": [
    "**The description of the columns is:**\n",
    "\n",
    "ins_id:     unique identification number of the instructors,    \n",
    "\n",
    "lastname:   last name of the instructors,\n",
    "\n",
    "firstname:  first name of the instructors,\n",
    "\n",
    "city:       name of the cities where instructors are located,\n",
    "\n",
    "country:    two-letter country code of the countries where instructors are located\n"
   ]
  },
  {
   "cell_type": "markdown",
   "id": "a41b031b-4052-4fbf-bdb2-62a47810e452",
   "metadata": {},
   "source": [
    "**Task**\n",
    "\n",
    "1) Connect to SQLite database, create the Instructor table, and  populate it with the information introduced in the image above\n",
    "2) Update the city and country for Sandip with id 4 to Dhaka and BD, respectively\n",
    "3) Remove the instructor record of 'Hima'"
   ]
  },
  {
   "cell_type": "code",
   "execution_count": 1,
   "id": "e50b2ca3-69a2-4e61-9e7f-054282d595ac",
   "metadata": {},
   "outputs": [],
   "source": [
    "# !pip install ipython-sql"
   ]
  },
  {
   "cell_type": "code",
   "execution_count": 2,
   "id": "6e07b4eb-8ed0-4bcc-8f02-75f910e978b7",
   "metadata": {},
   "outputs": [],
   "source": [
    "import pandas as pd\n",
    "import sqlite3\n",
    "%load_ext sql"
   ]
  },
  {
   "cell_type": "markdown",
   "id": "23bea998-95bf-4172-be98-e511fa290efa",
   "metadata": {},
   "source": [
    "1) Connecting to SQLite database, creating the Instructor table, and  populating it with the information introduced in the image"
   ]
  },
  {
   "cell_type": "code",
   "execution_count": 3,
   "id": "49d98bfb-54ba-4c30-a853-e548fa7dbbd8",
   "metadata": {},
   "outputs": [],
   "source": [
    "# Creating a connection to the SQLite database\n",
    "con = sqlite3.connect('SQLITE_DATABASE.db')"
   ]
  },
  {
   "cell_type": "code",
   "execution_count": 23,
   "id": "609a7f57-48db-4e00-bbf6-87d5e5897272",
   "metadata": {},
   "outputs": [
    {
     "name": "stdout",
     "output_type": "stream",
     "text": [
      "Done.\n",
      "Done.\n",
      "9 rows affected.\n",
      "Done.\n"
     ]
    },
    {
     "data": {
      "text/html": [
       "<table>\n",
       "    <thead>\n",
       "        <tr>\n",
       "            <th>ins_id</th>\n",
       "            <th>lastname</th>\n",
       "            <th>firstname</th>\n",
       "            <th>city</th>\n",
       "            <th>country</th>\n",
       "        </tr>\n",
       "    </thead>\n",
       "    <tbody>\n",
       "        <tr>\n",
       "            <td>1</td>\n",
       "            <td>Ahuja</td>\n",
       "            <td>Rav</td>\n",
       "            <td>Toronto</td>\n",
       "            <td>CA</td>\n",
       "        </tr>\n",
       "        <tr>\n",
       "            <td>2</td>\n",
       "            <td>Chong</td>\n",
       "            <td>Raul</td>\n",
       "            <td>Toronto</td>\n",
       "            <td>CA</td>\n",
       "        </tr>\n",
       "        <tr>\n",
       "            <td>3</td>\n",
       "            <td>Vasudevan</td>\n",
       "            <td>Hima</td>\n",
       "            <td>Chicago</td>\n",
       "            <td>US</td>\n",
       "        </tr>\n",
       "        <tr>\n",
       "            <td>4</td>\n",
       "            <td>Saha</td>\n",
       "            <td>Sandip</td>\n",
       "            <td>Edmonton</td>\n",
       "            <td>CA</td>\n",
       "        </tr>\n",
       "        <tr>\n",
       "            <td>5</td>\n",
       "            <td>Doe</td>\n",
       "            <td>John</td>\n",
       "            <td>Sydney</td>\n",
       "            <td>AU</td>\n",
       "        </tr>\n",
       "        <tr>\n",
       "            <td>6</td>\n",
       "            <td>Doe</td>\n",
       "            <td>Jane</td>\n",
       "            <td>Dhaka</td>\n",
       "            <td>BD</td>\n",
       "        </tr>\n",
       "        <tr>\n",
       "            <td>7</td>\n",
       "            <td>Cangiano</td>\n",
       "            <td>Antonio</td>\n",
       "            <td>Vancouver</td>\n",
       "            <td>CA</td>\n",
       "        </tr>\n",
       "        <tr>\n",
       "            <td>8</td>\n",
       "            <td>Ryan</td>\n",
       "            <td>Steve</td>\n",
       "            <td>Barlby</td>\n",
       "            <td>GB</td>\n",
       "        </tr>\n",
       "        <tr>\n",
       "            <td>9</td>\n",
       "            <td>Sannareddy</td>\n",
       "            <td>Ramesh</td>\n",
       "            <td>Hyderabad</td>\n",
       "            <td>IN</td>\n",
       "        </tr>\n",
       "    </tbody>\n",
       "</table>"
      ],
      "text/plain": [
       "[(1, 'Ahuja', 'Rav', 'Toronto', 'CA'),\n",
       " (2, 'Chong', 'Raul', 'Toronto', 'CA'),\n",
       " (3, 'Vasudevan', 'Hima', 'Chicago', 'US'),\n",
       " (4, 'Saha', 'Sandip', 'Edmonton', 'CA'),\n",
       " (5, 'Doe', 'John', 'Sydney', 'AU'),\n",
       " (6, 'Doe', 'Jane', 'Dhaka', 'BD'),\n",
       " (7, 'Cangiano', 'Antonio', 'Vancouver', 'CA'),\n",
       " (8, 'Ryan', 'Steve', 'Barlby', 'GB'),\n",
       " (9, 'Sannareddy', 'Ramesh', 'Hyderabad', 'IN')]"
      ]
     },
     "execution_count": 23,
     "metadata": {},
     "output_type": "execute_result"
    }
   ],
   "source": [
    "%%sql \n",
    "sqlite:///SQLITE_DATABASE.db\n",
    "DROP TABLE IF EXISTS Instructor;\n",
    "CREATE TABLE Instructor (\n",
    "    ins_id INTEGER NOT NULL,\n",
    "    lastname TEXT,\n",
    "    firstname TEXT,\n",
    "    city TEXT,\n",
    "    country TEXT,\n",
    "    PRIMARY KEY(ins_id)  -- This line is necessary to define a primary key\n",
    ");\n",
    "\n",
    "INSERT INTO Instructor VALUES\n",
    "    (1, 'Ahuja', 'Rav', 'Toronto', 'CA'),\n",
    "    (2,\t'Chong', 'Raul', 'Toronto',\t'CA'),\n",
    "    (3,\t'Vasudevan', 'Hima', 'Chicago', 'US'),\n",
    "    (4, 'Saha', 'Sandip', 'Edmonton', 'CA'),\n",
    "    (5, 'Doe', 'John', 'Sydney', 'AU'),\n",
    "    (6, 'Doe', 'Jane', 'Dhaka', 'BD'),\n",
    "    (7, 'Cangiano', 'Antonio', 'Vancouver', 'CA'),\n",
    "    (8, 'Ryan', 'Steve', 'Barlby', 'GB'),\n",
    "    (9, 'Sannareddy', 'Ramesh', 'Hyderabad', 'IN');\n",
    "\n",
    "SELECT * FROM Instructor;"
   ]
  },
  {
   "cell_type": "markdown",
   "id": "7b9f06e1-9543-4398-9b24-6470caf6fb96",
   "metadata": {},
   "source": [
    "2) Updating the city and country for Sandip with id 4 to Dhaka and BD, respectively"
   ]
  },
  {
   "cell_type": "code",
   "execution_count": 25,
   "id": "1cd4391e-a1a9-45cb-af82-e5ff94993fd7",
   "metadata": {},
   "outputs": [
    {
     "name": "stdout",
     "output_type": "stream",
     "text": [
      " * sqlite:///SQLITE_DATABASE.db\n",
      "1 rows affected.\n",
      "Done.\n"
     ]
    },
    {
     "data": {
      "text/html": [
       "<table>\n",
       "    <thead>\n",
       "        <tr>\n",
       "            <th>ins_id</th>\n",
       "            <th>lastname</th>\n",
       "            <th>firstname</th>\n",
       "            <th>city</th>\n",
       "            <th>country</th>\n",
       "        </tr>\n",
       "    </thead>\n",
       "    <tbody>\n",
       "        <tr>\n",
       "            <td>1</td>\n",
       "            <td>Ahuja</td>\n",
       "            <td>Rav</td>\n",
       "            <td>Toronto</td>\n",
       "            <td>CA</td>\n",
       "        </tr>\n",
       "        <tr>\n",
       "            <td>2</td>\n",
       "            <td>Chong</td>\n",
       "            <td>Raul</td>\n",
       "            <td>Toronto</td>\n",
       "            <td>CA</td>\n",
       "        </tr>\n",
       "        <tr>\n",
       "            <td>3</td>\n",
       "            <td>Vasudevan</td>\n",
       "            <td>Hima</td>\n",
       "            <td>Chicago</td>\n",
       "            <td>US</td>\n",
       "        </tr>\n",
       "        <tr>\n",
       "            <td>4</td>\n",
       "            <td>Saha</td>\n",
       "            <td>Sandip</td>\n",
       "            <td>Dhaka</td>\n",
       "            <td>BD</td>\n",
       "        </tr>\n",
       "        <tr>\n",
       "            <td>5</td>\n",
       "            <td>Doe</td>\n",
       "            <td>John</td>\n",
       "            <td>Sydney</td>\n",
       "            <td>AU</td>\n",
       "        </tr>\n",
       "        <tr>\n",
       "            <td>6</td>\n",
       "            <td>Doe</td>\n",
       "            <td>Jane</td>\n",
       "            <td>Dhaka</td>\n",
       "            <td>BD</td>\n",
       "        </tr>\n",
       "        <tr>\n",
       "            <td>7</td>\n",
       "            <td>Cangiano</td>\n",
       "            <td>Antonio</td>\n",
       "            <td>Vancouver</td>\n",
       "            <td>CA</td>\n",
       "        </tr>\n",
       "        <tr>\n",
       "            <td>8</td>\n",
       "            <td>Ryan</td>\n",
       "            <td>Steve</td>\n",
       "            <td>Barlby</td>\n",
       "            <td>GB</td>\n",
       "        </tr>\n",
       "        <tr>\n",
       "            <td>9</td>\n",
       "            <td>Sannareddy</td>\n",
       "            <td>Ramesh</td>\n",
       "            <td>Hyderabad</td>\n",
       "            <td>IN</td>\n",
       "        </tr>\n",
       "    </tbody>\n",
       "</table>"
      ],
      "text/plain": [
       "[(1, 'Ahuja', 'Rav', 'Toronto', 'CA'),\n",
       " (2, 'Chong', 'Raul', 'Toronto', 'CA'),\n",
       " (3, 'Vasudevan', 'Hima', 'Chicago', 'US'),\n",
       " (4, 'Saha', 'Sandip', 'Dhaka', 'BD'),\n",
       " (5, 'Doe', 'John', 'Sydney', 'AU'),\n",
       " (6, 'Doe', 'Jane', 'Dhaka', 'BD'),\n",
       " (7, 'Cangiano', 'Antonio', 'Vancouver', 'CA'),\n",
       " (8, 'Ryan', 'Steve', 'Barlby', 'GB'),\n",
       " (9, 'Sannareddy', 'Ramesh', 'Hyderabad', 'IN')]"
      ]
     },
     "execution_count": 25,
     "metadata": {},
     "output_type": "execute_result"
    }
   ],
   "source": [
    "%%sql\n",
    "UPDATE Instructor\n",
    "SET city = 'Dhaka', country = 'BD'\n",
    "WHERE ins_id = 4;\n",
    "\n",
    "SELECT * FROM Instructor"
   ]
  },
  {
   "cell_type": "markdown",
   "id": "64cbce51-bccd-4c4e-8237-f2d00783237d",
   "metadata": {},
   "source": [
    "3) Remove the instructor record of 'Hima'"
   ]
  },
  {
   "cell_type": "code",
   "execution_count": 26,
   "id": "4fde34d9-b633-48ba-af2a-9bb1104b44c4",
   "metadata": {},
   "outputs": [
    {
     "name": "stdout",
     "output_type": "stream",
     "text": [
      " * sqlite:///SQLITE_DATABASE.db\n",
      "1 rows affected.\n",
      "Done.\n"
     ]
    },
    {
     "data": {
      "text/html": [
       "<table>\n",
       "    <thead>\n",
       "        <tr>\n",
       "            <th>ins_id</th>\n",
       "            <th>lastname</th>\n",
       "            <th>firstname</th>\n",
       "            <th>city</th>\n",
       "            <th>country</th>\n",
       "        </tr>\n",
       "    </thead>\n",
       "    <tbody>\n",
       "        <tr>\n",
       "            <td>1</td>\n",
       "            <td>Ahuja</td>\n",
       "            <td>Rav</td>\n",
       "            <td>Toronto</td>\n",
       "            <td>CA</td>\n",
       "        </tr>\n",
       "        <tr>\n",
       "            <td>2</td>\n",
       "            <td>Chong</td>\n",
       "            <td>Raul</td>\n",
       "            <td>Toronto</td>\n",
       "            <td>CA</td>\n",
       "        </tr>\n",
       "        <tr>\n",
       "            <td>4</td>\n",
       "            <td>Saha</td>\n",
       "            <td>Sandip</td>\n",
       "            <td>Dhaka</td>\n",
       "            <td>BD</td>\n",
       "        </tr>\n",
       "        <tr>\n",
       "            <td>5</td>\n",
       "            <td>Doe</td>\n",
       "            <td>John</td>\n",
       "            <td>Sydney</td>\n",
       "            <td>AU</td>\n",
       "        </tr>\n",
       "        <tr>\n",
       "            <td>6</td>\n",
       "            <td>Doe</td>\n",
       "            <td>Jane</td>\n",
       "            <td>Dhaka</td>\n",
       "            <td>BD</td>\n",
       "        </tr>\n",
       "        <tr>\n",
       "            <td>7</td>\n",
       "            <td>Cangiano</td>\n",
       "            <td>Antonio</td>\n",
       "            <td>Vancouver</td>\n",
       "            <td>CA</td>\n",
       "        </tr>\n",
       "        <tr>\n",
       "            <td>8</td>\n",
       "            <td>Ryan</td>\n",
       "            <td>Steve</td>\n",
       "            <td>Barlby</td>\n",
       "            <td>GB</td>\n",
       "        </tr>\n",
       "        <tr>\n",
       "            <td>9</td>\n",
       "            <td>Sannareddy</td>\n",
       "            <td>Ramesh</td>\n",
       "            <td>Hyderabad</td>\n",
       "            <td>IN</td>\n",
       "        </tr>\n",
       "    </tbody>\n",
       "</table>"
      ],
      "text/plain": [
       "[(1, 'Ahuja', 'Rav', 'Toronto', 'CA'),\n",
       " (2, 'Chong', 'Raul', 'Toronto', 'CA'),\n",
       " (4, 'Saha', 'Sandip', 'Dhaka', 'BD'),\n",
       " (5, 'Doe', 'John', 'Sydney', 'AU'),\n",
       " (6, 'Doe', 'Jane', 'Dhaka', 'BD'),\n",
       " (7, 'Cangiano', 'Antonio', 'Vancouver', 'CA'),\n",
       " (8, 'Ryan', 'Steve', 'Barlby', 'GB'),\n",
       " (9, 'Sannareddy', 'Ramesh', 'Hyderabad', 'IN')]"
      ]
     },
     "execution_count": 26,
     "metadata": {},
     "output_type": "execute_result"
    }
   ],
   "source": [
    "%%sql\n",
    "DELETE FROM Instructor WHERE firstname = 'Hima';\n",
    "SELECT * FROM Instructor;"
   ]
  },
  {
   "cell_type": "code",
   "execution_count": null,
   "id": "65a66235-5dc0-4516-aa21-b99616cf429d",
   "metadata": {},
   "outputs": [],
   "source": []
  }
 ],
 "metadata": {
  "kernelspec": {
   "display_name": "Python 3 (ipykernel)",
   "language": "python",
   "name": "python3"
  },
  "language_info": {
   "codemirror_mode": {
    "name": "ipython",
    "version": 3
   },
   "file_extension": ".py",
   "mimetype": "text/x-python",
   "name": "python",
   "nbconvert_exporter": "python",
   "pygments_lexer": "ipython3",
   "version": "3.12.0"
  }
 },
 "nbformat": 4,
 "nbformat_minor": 5
}
